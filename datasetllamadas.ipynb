{
 "cells": [
  {
   "cell_type": "code",
   "execution_count": 1,
   "id": "373dab19",
   "metadata": {},
   "outputs": [],
   "source": [
    "# analisis de dataset de llamadas ventanilla"
   ]
  },
  {
   "cell_type": "code",
   "execution_count": 1,
   "id": "39ccd298",
   "metadata": {},
   "outputs": [],
   "source": [
    "import pandas as pd\n",
    "import requests"
   ]
  },
  {
   "cell_type": "code",
   "execution_count": 2,
   "id": "3658c1c5",
   "metadata": {},
   "outputs": [],
   "source": [
    "path=\"C:/Users/elextor/Downloads/DATASET_DE_DATOS_LLAMADAS_CENTRAL_EMERGENCIAS.csv\"\n",
    "path2=\"C:/Users/elextor/Downloads/ubigeo2.csv\""
   ]
  },
  {
   "cell_type": "code",
   "execution_count": 3,
   "id": "648570d5",
   "metadata": {},
   "outputs": [],
   "source": [
    "data = pd.read_csv(path,sep=\";\",on_bad_lines='skip') # use sep=\",\" for coma separation. \n"
   ]
  },
  {
   "cell_type": "code",
   "execution_count": 4,
   "id": "287ca84e",
   "metadata": {},
   "outputs": [
    {
     "data": {
      "text/html": [
       "<div>\n",
       "<style scoped>\n",
       "    .dataframe tbody tr th:only-of-type {\n",
       "        vertical-align: middle;\n",
       "    }\n",
       "\n",
       "    .dataframe tbody tr th {\n",
       "        vertical-align: top;\n",
       "    }\n",
       "\n",
       "    .dataframe thead th {\n",
       "        text-align: right;\n",
       "    }\n",
       "</style>\n",
       "<table border=\"1\" class=\"dataframe\">\n",
       "  <thead>\n",
       "    <tr style=\"text-align: right;\">\n",
       "      <th></th>\n",
       "      <th>IDABOMENSAJE</th>\n",
       "      <th>TXNOMBRE</th>\n",
       "      <th>NUMERO_CASO</th>\n",
       "      <th>CENTRAL</th>\n",
       "      <th>UNIDAD</th>\n",
       "      <th>PATRU_INTE</th>\n",
       "      <th>AREACIERRE</th>\n",
       "      <th>TIPOCASO</th>\n",
       "      <th>SUBTIPOCASO</th>\n",
       "      <th>ESTADOCASO</th>\n",
       "      <th>...</th>\n",
       "      <th>SUBSECTOR</th>\n",
       "      <th>AA_HH</th>\n",
       "      <th>COMISARIA</th>\n",
       "      <th>REFERENCIA</th>\n",
       "      <th>ESTADO</th>\n",
       "      <th>DEPARTAMENTO</th>\n",
       "      <th>PROVINCIA</th>\n",
       "      <th>DISTRITO</th>\n",
       "      <th>UBIGEO</th>\n",
       "      <th>FECHA_CORTE</th>\n",
       "    </tr>\n",
       "  </thead>\n",
       "  <tbody>\n",
       "    <tr>\n",
       "      <th>43318</th>\n",
       "      <td>850407</td>\n",
       "      <td>REGMAN01</td>\n",
       "      <td>817212</td>\n",
       "      <td>EMERGENCIA</td>\n",
       "      <td>PATRULLAJE INTEGRADO</td>\n",
       "      <td>NO</td>\n",
       "      <td>SERENAZGO</td>\n",
       "      <td>DISPERSADOS</td>\n",
       "      <td>VEHICULOS SOSPECHOSOS</td>\n",
       "      <td>NaN</td>\n",
       "      <td>...</td>\n",
       "      <td>SUB - SECTOR  \"4 A\"</td>\n",
       "      <td>AH. KUMAMOTO</td>\n",
       "      <td>VENTANILLA</td>\n",
       "      <td>av. Neptuno con av. Venus altura de la mz. A A...</td>\n",
       "      <td>CERRADA</td>\n",
       "      <td>CALLAO</td>\n",
       "      <td>CALLAO</td>\n",
       "      <td>VENTANILLA</td>\n",
       "      <td>70106</td>\n",
       "      <td>20220630</td>\n",
       "    </tr>\n",
       "    <tr>\n",
       "      <th>17781</th>\n",
       "      <td>821206</td>\n",
       "      <td>REGMAN01</td>\n",
       "      <td>793540</td>\n",
       "      <td>EMERGENCIA</td>\n",
       "      <td>PATRULLAJE INTEGRADO</td>\n",
       "      <td>NO</td>\n",
       "      <td>SERENAZGO</td>\n",
       "      <td>DISPERSADOS</td>\n",
       "      <td>DROGADICTOS</td>\n",
       "      <td>NaN</td>\n",
       "      <td>...</td>\n",
       "      <td>SUB- SECTOR 5 D</td>\n",
       "      <td>VICTOR RAUL HAYA DE LA TORRE</td>\n",
       "      <td>VENTANILLA</td>\n",
       "      <td>av. Indoamericana Loza Deportiva A.H. V&amp;iacute...</td>\n",
       "      <td>CERRADA</td>\n",
       "      <td>CALLAO</td>\n",
       "      <td>CALLAO</td>\n",
       "      <td>VENTANILLA</td>\n",
       "      <td>70106</td>\n",
       "      <td>20220630</td>\n",
       "    </tr>\n",
       "    <tr>\n",
       "      <th>710</th>\n",
       "      <td>805948</td>\n",
       "      <td>REGPAR01</td>\n",
       "      <td>778296</td>\n",
       "      <td>EMERGENCIA</td>\n",
       "      <td>SERENAZGO A PIE</td>\n",
       "      <td>NO</td>\n",
       "      <td>SERENAZGO</td>\n",
       "      <td>DISPERSADOS</td>\n",
       "      <td>CONSUMIDORES DE ALCOHOL</td>\n",
       "      <td>NaN</td>\n",
       "      <td>...</td>\n",
       "      <td>SUB- SECTOR 5 D</td>\n",
       "      <td>VICTOR RAUL HAYA DE LA TORRE</td>\n",
       "      <td>VENTANILLA</td>\n",
       "      <td>Plaza de armas, altura Mz N</td>\n",
       "      <td>CERRADA</td>\n",
       "      <td>CALLAO</td>\n",
       "      <td>CALLAO</td>\n",
       "      <td>VENTANILLA</td>\n",
       "      <td>70106</td>\n",
       "      <td>20220630</td>\n",
       "    </tr>\n",
       "    <tr>\n",
       "      <th>3634</th>\n",
       "      <td>808478</td>\n",
       "      <td>REGMAN01</td>\n",
       "      <td>780825</td>\n",
       "      <td>EMERGENCIA</td>\n",
       "      <td>SERENAZGO ESPECIALISTA (CHOFER)</td>\n",
       "      <td>NO</td>\n",
       "      <td>SERENAZGO</td>\n",
       "      <td>APOYO DIVERSO AL CONTRIBUYENTE</td>\n",
       "      <td>ORIENTACION</td>\n",
       "      <td>NaN</td>\n",
       "      <td>...</td>\n",
       "      <td>SUB - SECTOR 1C</td>\n",
       "      <td>AH. LOS LICENCIADOS</td>\n",
       "      <td>NaN</td>\n",
       "      <td>T5 LTE-07</td>\n",
       "      <td>CERRADA</td>\n",
       "      <td>CALLAO</td>\n",
       "      <td>CALLAO</td>\n",
       "      <td>VENTANILLA</td>\n",
       "      <td>70106</td>\n",
       "      <td>20220630</td>\n",
       "    </tr>\n",
       "    <tr>\n",
       "      <th>47506</th>\n",
       "      <td>854326</td>\n",
       "      <td>REGMAN01</td>\n",
       "      <td>821127</td>\n",
       "      <td>EMERGENCIA</td>\n",
       "      <td>SERENAZGO ESPECIALISTA (CHOFER)</td>\n",
       "      <td>NO</td>\n",
       "      <td>SERENAZGO</td>\n",
       "      <td>ACTIVIDADES REALIZADAS POR SERENAZGO</td>\n",
       "      <td>PARADERO SEGURO</td>\n",
       "      <td>NaN</td>\n",
       "      <td>...</td>\n",
       "      <td>SUB - SECTOR 1B</td>\n",
       "      <td>URB EX ZONA COMERCIAL</td>\n",
       "      <td>VENTANILLA</td>\n",
       "      <td>URB EX ZONA COMERCIAL PARADERO LICENCIADOS, AH...</td>\n",
       "      <td>CERRADA</td>\n",
       "      <td>CALLAO</td>\n",
       "      <td>CALLAO</td>\n",
       "      <td>VENTANILLA</td>\n",
       "      <td>70106</td>\n",
       "      <td>20220630</td>\n",
       "    </tr>\n",
       "    <tr>\n",
       "      <th>6669</th>\n",
       "      <td>811121</td>\n",
       "      <td>REGMAN01</td>\n",
       "      <td>783466</td>\n",
       "      <td>EMERGENCIA</td>\n",
       "      <td>SERENAZGO A PIE</td>\n",
       "      <td>NO</td>\n",
       "      <td>SERENAZGO</td>\n",
       "      <td>DISPERSADOS</td>\n",
       "      <td>VEHICULOS MAL ESTACIONADOS</td>\n",
       "      <td>NaN</td>\n",
       "      <td>...</td>\n",
       "      <td>SUB - SECTOR \"4-B</td>\n",
       "      <td>AH. ANGAMOS 1ER SECTOR</td>\n",
       "      <td>VENTANILLA</td>\n",
       "      <td>calle 7 puerta #5 del mercado ACMA</td>\n",
       "      <td>CERRADA</td>\n",
       "      <td>CALLAO</td>\n",
       "      <td>CALLAO</td>\n",
       "      <td>VENTANILLA</td>\n",
       "      <td>70106</td>\n",
       "      <td>20220630</td>\n",
       "    </tr>\n",
       "    <tr>\n",
       "      <th>42171</th>\n",
       "      <td>849383</td>\n",
       "      <td>REGMAN01</td>\n",
       "      <td>816188</td>\n",
       "      <td>EMERGENCIA</td>\n",
       "      <td>SERENAZGO ESPECIALISTA (CHOFER)</td>\n",
       "      <td>NO</td>\n",
       "      <td>SERENAZGO</td>\n",
       "      <td>DELITOS</td>\n",
       "      <td>CONTRA EL PATRIMONIO</td>\n",
       "      <td>TENTATIVA DE HURTO</td>\n",
       "      <td>...</td>\n",
       "      <td>SUB - SECTOR 2A</td>\n",
       "      <td>URB. CIUDAD SATELITE</td>\n",
       "      <td>VENTANILLA</td>\n",
       "      <td>PARQUE DIVINO NI&amp;Ntilde;O</td>\n",
       "      <td>CERRADA</td>\n",
       "      <td>CALLAO</td>\n",
       "      <td>CALLAO</td>\n",
       "      <td>VENTANILLA</td>\n",
       "      <td>70106</td>\n",
       "      <td>20220630</td>\n",
       "    </tr>\n",
       "    <tr>\n",
       "      <th>55372</th>\n",
       "      <td>861913</td>\n",
       "      <td>REGPAR01</td>\n",
       "      <td>828714</td>\n",
       "      <td>EMERGENCIA</td>\n",
       "      <td>SERENAZGO ESPECIALISTA (CHOFER)</td>\n",
       "      <td>NO</td>\n",
       "      <td>SERENAZGO</td>\n",
       "      <td>ACTIVIDADES REALIZADAS POR SERENAZGO</td>\n",
       "      <td>PATRULLAJE MUNICIPAL POR SECTOR</td>\n",
       "      <td>VEHICULAR</td>\n",
       "      <td>...</td>\n",
       "      <td>SUB - SECTOR 2-A</td>\n",
       "      <td>NUEVO PROGRESO</td>\n",
       "      <td>VILLA LOS REYES</td>\n",
       "      <td>COLEGIO IE 5141 DIVINO MAESTRO</td>\n",
       "      <td>CERRADA</td>\n",
       "      <td>CALLAO</td>\n",
       "      <td>CALLAO</td>\n",
       "      <td>VENTANILLA</td>\n",
       "      <td>70106</td>\n",
       "      <td>20220630</td>\n",
       "    </tr>\n",
       "    <tr>\n",
       "      <th>24879</th>\n",
       "      <td>832543</td>\n",
       "      <td>REGMAN01</td>\n",
       "      <td>800310</td>\n",
       "      <td>EMERGENCIA</td>\n",
       "      <td>SERENAZGO ESPECIALISTA (CHOFER)</td>\n",
       "      <td>NO</td>\n",
       "      <td>SERENAZGO</td>\n",
       "      <td>VIOLENCIA FAMILIAR</td>\n",
       "      <td>FISICA Y PSICOLOGICA</td>\n",
       "      <td>NaN</td>\n",
       "      <td>...</td>\n",
       "      <td>SUB - SECTOR \"4-B</td>\n",
       "      <td>AH. AMPLIACION COSTA AZUL</td>\n",
       "      <td>VENTANILLA</td>\n",
       "      <td>la Mza. P2 Lote19</td>\n",
       "      <td>CERRADA</td>\n",
       "      <td>CALLAO</td>\n",
       "      <td>CALLAO</td>\n",
       "      <td>VENTANILLA</td>\n",
       "      <td>70106</td>\n",
       "      <td>20220630</td>\n",
       "    </tr>\n",
       "    <tr>\n",
       "      <th>30294</th>\n",
       "      <td>837140</td>\n",
       "      <td>REGPAR01</td>\n",
       "      <td>804903</td>\n",
       "      <td>EMERGENCIA</td>\n",
       "      <td>SERENAZGO ESPECIALISTA (CHOFER)</td>\n",
       "      <td>NO</td>\n",
       "      <td>SERENAZGO</td>\n",
       "      <td>ACTIVIDADES REALIZADAS POR SERENAZGO</td>\n",
       "      <td>COLEGIO SEGURO</td>\n",
       "      <td>NaN</td>\n",
       "      <td>...</td>\n",
       "      <td>SUB - SECTOR 1-B</td>\n",
       "      <td>LAS LOMAS</td>\n",
       "      <td>VILLA LOS REYES</td>\n",
       "      <td>I.E Francisco Bolognesi</td>\n",
       "      <td>CERRADA</td>\n",
       "      <td>CALLAO</td>\n",
       "      <td>CALLAO</td>\n",
       "      <td>VENTANILLA</td>\n",
       "      <td>70106</td>\n",
       "      <td>20220630</td>\n",
       "    </tr>\n",
       "  </tbody>\n",
       "</table>\n",
       "<p>10 rows × 37 columns</p>\n",
       "</div>"
      ],
      "text/plain": [
       "       IDABOMENSAJE  TXNOMBRE  NUMERO_CASO     CENTRAL  \\\n",
       "43318        850407  REGMAN01       817212  EMERGENCIA   \n",
       "17781        821206  REGMAN01       793540  EMERGENCIA   \n",
       "710          805948  REGPAR01       778296  EMERGENCIA   \n",
       "3634         808478  REGMAN01       780825  EMERGENCIA   \n",
       "47506        854326  REGMAN01       821127  EMERGENCIA   \n",
       "6669         811121  REGMAN01       783466  EMERGENCIA   \n",
       "42171        849383  REGMAN01       816188  EMERGENCIA   \n",
       "55372        861913  REGPAR01       828714  EMERGENCIA   \n",
       "24879        832543  REGMAN01       800310  EMERGENCIA   \n",
       "30294        837140  REGPAR01       804903  EMERGENCIA   \n",
       "\n",
       "                                UNIDAD PATRU_INTE AREACIERRE  \\\n",
       "43318             PATRULLAJE INTEGRADO         NO  SERENAZGO   \n",
       "17781             PATRULLAJE INTEGRADO         NO  SERENAZGO   \n",
       "710                    SERENAZGO A PIE         NO  SERENAZGO   \n",
       "3634   SERENAZGO ESPECIALISTA (CHOFER)         NO  SERENAZGO   \n",
       "47506  SERENAZGO ESPECIALISTA (CHOFER)         NO  SERENAZGO   \n",
       "6669                   SERENAZGO A PIE         NO  SERENAZGO   \n",
       "42171  SERENAZGO ESPECIALISTA (CHOFER)         NO  SERENAZGO   \n",
       "55372  SERENAZGO ESPECIALISTA (CHOFER)         NO  SERENAZGO   \n",
       "24879  SERENAZGO ESPECIALISTA (CHOFER)         NO  SERENAZGO   \n",
       "30294  SERENAZGO ESPECIALISTA (CHOFER)         NO  SERENAZGO   \n",
       "\n",
       "                                   TIPOCASO                      SUBTIPOCASO  \\\n",
       "43318                           DISPERSADOS            VEHICULOS SOSPECHOSOS   \n",
       "17781                           DISPERSADOS                      DROGADICTOS   \n",
       "710                             DISPERSADOS          CONSUMIDORES DE ALCOHOL   \n",
       "3634         APOYO DIVERSO AL CONTRIBUYENTE                      ORIENTACION   \n",
       "47506  ACTIVIDADES REALIZADAS POR SERENAZGO                  PARADERO SEGURO   \n",
       "6669                            DISPERSADOS       VEHICULOS MAL ESTACIONADOS   \n",
       "42171                               DELITOS             CONTRA EL PATRIMONIO   \n",
       "55372  ACTIVIDADES REALIZADAS POR SERENAZGO  PATRULLAJE MUNICIPAL POR SECTOR   \n",
       "24879                    VIOLENCIA FAMILIAR             FISICA Y PSICOLOGICA   \n",
       "30294  ACTIVIDADES REALIZADAS POR SERENAZGO                   COLEGIO SEGURO   \n",
       "\n",
       "               ESTADOCASO  ...            SUBSECTOR  \\\n",
       "43318                 NaN  ...  SUB - SECTOR  \"4 A\"   \n",
       "17781                 NaN  ...      SUB- SECTOR 5 D   \n",
       "710                   NaN  ...      SUB- SECTOR 5 D   \n",
       "3634                  NaN  ...      SUB - SECTOR 1C   \n",
       "47506                 NaN  ...      SUB - SECTOR 1B   \n",
       "6669                  NaN  ...    SUB - SECTOR \"4-B   \n",
       "42171  TENTATIVA DE HURTO  ...      SUB - SECTOR 2A   \n",
       "55372           VEHICULAR  ...     SUB - SECTOR 2-A   \n",
       "24879                 NaN  ...    SUB - SECTOR \"4-B   \n",
       "30294                 NaN  ...     SUB - SECTOR 1-B   \n",
       "\n",
       "                              AA_HH        COMISARIA  \\\n",
       "43318                  AH. KUMAMOTO       VENTANILLA   \n",
       "17781  VICTOR RAUL HAYA DE LA TORRE       VENTANILLA   \n",
       "710    VICTOR RAUL HAYA DE LA TORRE       VENTANILLA   \n",
       "3634            AH. LOS LICENCIADOS              NaN   \n",
       "47506         URB EX ZONA COMERCIAL       VENTANILLA   \n",
       "6669         AH. ANGAMOS 1ER SECTOR       VENTANILLA   \n",
       "42171          URB. CIUDAD SATELITE       VENTANILLA   \n",
       "55372                NUEVO PROGRESO  VILLA LOS REYES   \n",
       "24879     AH. AMPLIACION COSTA AZUL       VENTANILLA   \n",
       "30294                     LAS LOMAS  VILLA LOS REYES   \n",
       "\n",
       "                                              REFERENCIA   ESTADO  \\\n",
       "43318  av. Neptuno con av. Venus altura de la mz. A A...  CERRADA   \n",
       "17781  av. Indoamericana Loza Deportiva A.H. V&iacute...  CERRADA   \n",
       "710                          Plaza de armas, altura Mz N  CERRADA   \n",
       "3634                                          T5 LTE-07   CERRADA   \n",
       "47506  URB EX ZONA COMERCIAL PARADERO LICENCIADOS, AH...  CERRADA   \n",
       "6669                  calle 7 puerta #5 del mercado ACMA  CERRADA   \n",
       "42171                         PARQUE DIVINO NI&Ntilde;O   CERRADA   \n",
       "55372                    COLEGIO IE 5141 DIVINO MAESTRO   CERRADA   \n",
       "24879                                 la Mza. P2 Lote19   CERRADA   \n",
       "30294                            I.E Francisco Bolognesi  CERRADA   \n",
       "\n",
       "      DEPARTAMENTO  PROVINCIA    DISTRITO  UBIGEO FECHA_CORTE  \n",
       "43318       CALLAO     CALLAO  VENTANILLA   70106    20220630  \n",
       "17781       CALLAO     CALLAO  VENTANILLA   70106    20220630  \n",
       "710         CALLAO     CALLAO  VENTANILLA   70106    20220630  \n",
       "3634        CALLAO     CALLAO  VENTANILLA   70106    20220630  \n",
       "47506       CALLAO     CALLAO  VENTANILLA   70106    20220630  \n",
       "6669        CALLAO     CALLAO  VENTANILLA   70106    20220630  \n",
       "42171       CALLAO     CALLAO  VENTANILLA   70106    20220630  \n",
       "55372       CALLAO     CALLAO  VENTANILLA   70106    20220630  \n",
       "24879       CALLAO     CALLAO  VENTANILLA   70106    20220630  \n",
       "30294       CALLAO     CALLAO  VENTANILLA   70106    20220630  \n",
       "\n",
       "[10 rows x 37 columns]"
      ]
     },
     "execution_count": 4,
     "metadata": {},
     "output_type": "execute_result"
    }
   ],
   "source": [
    "data.sample(10)"
   ]
  },
  {
   "cell_type": "code",
   "execution_count": 63,
   "id": "c49b86e6",
   "metadata": {},
   "outputs": [
    {
     "data": {
      "text/plain": [
       "(56874, 37)"
      ]
     },
     "execution_count": 63,
     "metadata": {},
     "output_type": "execute_result"
    }
   ],
   "source": [
    "data.shape"
   ]
  },
  {
   "cell_type": "code",
   "execution_count": 19,
   "id": "5fc230a0",
   "metadata": {},
   "outputs": [
    {
     "name": "stdout",
     "output_type": "stream",
     "text": [
      "<class 'pandas.core.frame.DataFrame'>\n",
      "RangeIndex: 56874 entries, 0 to 56873\n",
      "Data columns (total 37 columns):\n",
      " #   Column              Non-Null Count  Dtype  \n",
      "---  ------              --------------  -----  \n",
      " 0   IDABOMENSAJE        56874 non-null  int64  \n",
      " 1   TXNOMBRE            56874 non-null  object \n",
      " 2   NUMERO_CASO         56874 non-null  int64  \n",
      " 3   CENTRAL             56874 non-null  object \n",
      " 4   UNIDAD              56874 non-null  object \n",
      " 5   PATRU_INTE          56874 non-null  object \n",
      " 6   AREACIERRE          56874 non-null  object \n",
      " 7   TIPOCASO            56797 non-null  object \n",
      " 8   SUBTIPOCASO         56797 non-null  object \n",
      " 9   ESTADOCASO          22027 non-null  object \n",
      " 10  SUBESTADOCASO       673 non-null    object \n",
      " 11  TIPI_TIPO_DETE      56874 non-null  object \n",
      " 12  TIPI_NUMERO         56873 non-null  float64\n",
      " 13  DETE_TIPO_DETE      56874 non-null  object \n",
      " 14  DETE_CANTIDAD       56874 non-null  int64  \n",
      " 15  LOGR_TIPO           56874 non-null  object \n",
      " 16  LOGR_CANTIDAD       56874 non-null  int64  \n",
      " 17  FECHA_LLAMADA       56874 non-null  int64  \n",
      " 18  HORAINICIO_LLAMADA  56874 non-null  int64  \n",
      " 19  DIANOMBRE           56874 non-null  object \n",
      " 20  TURNO               56874 non-null  object \n",
      " 21  UNIDADTELEFONICA    56868 non-null  object \n",
      " 22  NUMEROTELEFONO      56874 non-null  object \n",
      " 23  UNIDADORIGEN        56873 non-null  object \n",
      " 24  DISPOSITIVOORIGEN   56874 non-null  object \n",
      " 25  ZONA                56791 non-null  object \n",
      " 26  SECTOR              56791 non-null  object \n",
      " 27  SUBSECTOR           56791 non-null  object \n",
      " 28  AA_HH               56873 non-null  object \n",
      " 29  COMISARIA           55786 non-null  object \n",
      " 30  REFERENCIA          56791 non-null  object \n",
      " 31  ESTADO              56874 non-null  object \n",
      " 32  DEPARTAMENTO        56874 non-null  object \n",
      " 33  PROVINCIA           56874 non-null  object \n",
      " 34  DISTRITO            56874 non-null  object \n",
      " 35  UBIGEO              56874 non-null  int64  \n",
      " 36  FECHA_CORTE         56874 non-null  int64  \n",
      "dtypes: float64(1), int64(8), object(28)\n",
      "memory usage: 16.1+ MB\n"
     ]
    }
   ],
   "source": [
    "data.info()"
   ]
  },
  {
   "cell_type": "markdown",
   "id": "3315c1bc",
   "metadata": {},
   "source": [
    "*\t\tIDABOMENSAJE\tId del Caso\tNumérico\t6\n",
    "*\t\tTXNOMBRE\tNombre del Anexo que fue Atendido\tAlfanumérico\t10\n",
    "*\t\tNUMERO_CASO\tNumero del caso que se reporta\tNumérico\t6\n",
    "*\t\tCENTRAL\tLugar donde se recibió la llamada\tTexto\t20\n",
    "*\t\tUNIDAD\tUnidad que realiza el apoyo\tTexto\t50\n",
    "*\t\tPATRU_INTE\tPatrullaje Integrado\tTexto\t2\n",
    "*\t\tAREACIERRE\tÁrea que realiza el cierre del caso\tTexto\t20\n",
    "*\t\tTIPOCASO\tTipo del caso\tTexto\t100\n",
    "*\t\tSUBTIPOCASO\tSubtipo del caso\tTexto\t200\n",
    "*\t\tESTADOCASO\tTipo del estado del caso\tTexto\t200\n",
    "*\t\tSUBESTADOCASO\tDivisión del estado del caso\tTexto\t200\n",
    "*\t\tTIPI_TIPO_DETE\tTipo de tipificación del  detenido\tTexto\t50\n",
    "*\t\tTIPI_NUMERO\tNumero de tipificación\tNumérico\t4\n",
    "*\t\tDETE_TIPO_DETE\tIdentificación del detenido\tTexto\t50\n",
    "*\t\tDETE_CANTIDAD\tCantidad de Detenidos\tNumérico\t4\n",
    "*\t\tLOGR_TIPO\tCuando se le encuentra al detenido un objeto\tTexto\t50\n",
    "*\t\tLOGR_CANTIDAD\tCantidad de objetos o intervenciones que ha tenido el detenido\tNumérico\t4\n",
    "*\t\tFECHA_LLAMADA\tFecha de creación del caso\tNumérico\t8\n",
    "*\t\tHORAINICIO_LLAMADA\tHora de creación del caso\tAlfanumérico\t6\n",
    "*\t\tDIANOMBRE\tDia del nombre dela fecha\tTexto\t20\n",
    "*\t\tTURNO\tTurno de trabajo\tTexto\t20\n",
    "*\t\tUNIDADTELEFONICA\tUnidad Telefonica\tTexto\t20\n",
    "*\t\tNUMEROTELEFONO\tNumero de teléfono\tTexto\t20\n",
    "*\t\tUNIDADORIGEN\tDe donde se origina el caso\tTexto\t25\n",
    "*\t\tDISPOSITIVOORIGEN\tDe que dispositivo se reporta\tTexto\t25\n",
    "*\t\tZONA\tDivisiones internas\tTexto\t50\n",
    "*\t\tSECTOR\tSeguridad Ciudadana\tTexto\t50\n",
    "*\t\tSUBSECTOR\tDivisión del sector\tTexto\t50\n",
    "*\t\tAA_HH\tAsentamientos Humanos\tTexto\t150\n",
    "*\t\tCOMISARIA\tComisaria de la PNP\tTexto\t50\n",
    "*\t\tREFERENCIA\tDirecciones del lugar del echo\tTexto\t250\n",
    "*\t\tESTADO\tSi el caso ha sido culminado o no\tTexto\t20\n",
    "*\t\tDEPARTAMENTO\tDepartamento donde se realizo la llamada\tTexto\t\n",
    "*\t\tPROVINCIA\tProvincia donde se realizo la llamada\tTexto\t\n",
    "*\t\tDISTRITO\tDistrito donde se realizo la llamada\tTexto\t\n",
    "*\t\tUBIGEO\tCódigo de ubicación geográfica según el INEI\tAlfanumérico\t6\n",
    "*\t\tFECHA_CORTE\tFecha en que se realizó el corte de información\tNumérico\t8\n"
   ]
  },
  {
   "cell_type": "code",
   "execution_count": 12,
   "id": "9311149c",
   "metadata": {},
   "outputs": [
    {
     "data": {
      "text/plain": [
       "IDABOMENSAJE              0\n",
       "TXNOMBRE                  0\n",
       "NUMERO_CASO               0\n",
       "CENTRAL                   0\n",
       "UNIDAD                    0\n",
       "PATRU_INTE                0\n",
       "AREACIERRE                0\n",
       "TIPOCASO                  0\n",
       "SUBTIPOCASO              77\n",
       "ESTADOCASO            34847\n",
       "SUBESTADOCASO         56201\n",
       "TIPI_TIPO_DETE            0\n",
       "TIPI_NUMERO               1\n",
       "DETE_TIPO_DETE            0\n",
       "DETE_CANTIDAD             0\n",
       "LOGR_TIPO                 0\n",
       "LOGR_CANTIDAD             0\n",
       "FECHA_LLAMADA             0\n",
       "HORAINICIO_LLAMADA        0\n",
       "DIANOMBRE                 0\n",
       "TURNO                     0\n",
       "UNIDADTELEFONICA          6\n",
       "NUMEROTELEFONO            0\n",
       "UNIDADORIGEN              1\n",
       "DISPOSITIVOORIGEN         0\n",
       "ZONA                      0\n",
       "SECTOR                   83\n",
       "SUBSECTOR                83\n",
       "AA_HH                     1\n",
       "COMISARIA              1088\n",
       "REFERENCIA               83\n",
       "ESTADO                    0\n",
       "DEPARTAMENTO              0\n",
       "PROVINCIA                 0\n",
       "DISTRITO                  0\n",
       "UBIGEO                    0\n",
       "FECHA_CORTE               0\n",
       "dtype: int64"
      ]
     },
     "execution_count": 12,
     "metadata": {},
     "output_type": "execute_result"
    }
   ],
   "source": [
    "data.isnull().sum()"
   ]
  },
  {
   "cell_type": "code",
   "execution_count": 14,
   "id": "4bd7f6a8",
   "metadata": {},
   "outputs": [],
   "source": [
    "import numpy as np"
   ]
  },
  {
   "cell_type": "code",
   "execution_count": 18,
   "id": "e1c8bab7",
   "metadata": {},
   "outputs": [
    {
     "data": {
      "text/html": [
       "<div>\n",
       "<style scoped>\n",
       "    .dataframe tbody tr th:only-of-type {\n",
       "        vertical-align: middle;\n",
       "    }\n",
       "\n",
       "    .dataframe tbody tr th {\n",
       "        vertical-align: top;\n",
       "    }\n",
       "\n",
       "    .dataframe thead th {\n",
       "        text-align: right;\n",
       "    }\n",
       "</style>\n",
       "<table border=\"1\" class=\"dataframe\">\n",
       "  <thead>\n",
       "    <tr style=\"text-align: right;\">\n",
       "      <th></th>\n",
       "      <th>DETE_CANTIDAD</th>\n",
       "    </tr>\n",
       "    <tr>\n",
       "      <th>ZONA</th>\n",
       "      <th></th>\n",
       "    </tr>\n",
       "  </thead>\n",
       "  <tbody>\n",
       "    <tr>\n",
       "      <th>CENTRO</th>\n",
       "      <td>837</td>\n",
       "    </tr>\n",
       "    <tr>\n",
       "      <th>NORTE</th>\n",
       "      <td>1504</td>\n",
       "    </tr>\n",
       "    <tr>\n",
       "      <th>OESTE A</th>\n",
       "      <td>642</td>\n",
       "    </tr>\n",
       "    <tr>\n",
       "      <th>OESTE B</th>\n",
       "      <td>716</td>\n",
       "    </tr>\n",
       "    <tr>\n",
       "      <th>SUR</th>\n",
       "      <td>239</td>\n",
       "    </tr>\n",
       "    <tr>\n",
       "      <th>SUR CENTRO</th>\n",
       "      <td>1904</td>\n",
       "    </tr>\n",
       "  </tbody>\n",
       "</table>\n",
       "</div>"
      ],
      "text/plain": [
       "            DETE_CANTIDAD\n",
       "ZONA                     \n",
       "CENTRO                837\n",
       "NORTE                1504\n",
       "OESTE A               642\n",
       "OESTE B               716\n",
       "SUR                   239\n",
       "SUR CENTRO           1904"
      ]
     },
     "execution_count": 18,
     "metadata": {},
     "output_type": "execute_result"
    }
   ],
   "source": [
    "data.pivot_table(index=\"ZONA\", values=['DETE_CANTIDAD'], aggfunc=np.sum)"
   ]
  },
  {
   "cell_type": "code",
   "execution_count": 23,
   "id": "4ae5f43c",
   "metadata": {},
   "outputs": [
    {
     "data": {
      "text/html": [
       "<div>\n",
       "<style scoped>\n",
       "    .dataframe tbody tr th:only-of-type {\n",
       "        vertical-align: middle;\n",
       "    }\n",
       "\n",
       "    .dataframe tbody tr th {\n",
       "        vertical-align: top;\n",
       "    }\n",
       "\n",
       "    .dataframe thead th {\n",
       "        text-align: right;\n",
       "    }\n",
       "</style>\n",
       "<table border=\"1\" class=\"dataframe\">\n",
       "  <thead>\n",
       "    <tr style=\"text-align: right;\">\n",
       "      <th></th>\n",
       "      <th>DETE_CANTIDAD</th>\n",
       "      <th>Llamadas</th>\n",
       "    </tr>\n",
       "    <tr>\n",
       "      <th>ZONA</th>\n",
       "      <th></th>\n",
       "      <th></th>\n",
       "    </tr>\n",
       "  </thead>\n",
       "  <tbody>\n",
       "    <tr>\n",
       "      <th>CENTRO</th>\n",
       "      <td>837</td>\n",
       "      <td>16493</td>\n",
       "    </tr>\n",
       "    <tr>\n",
       "      <th>NORTE</th>\n",
       "      <td>1504</td>\n",
       "      <td>8490</td>\n",
       "    </tr>\n",
       "    <tr>\n",
       "      <th>OESTE A</th>\n",
       "      <td>642</td>\n",
       "      <td>6139</td>\n",
       "    </tr>\n",
       "    <tr>\n",
       "      <th>OESTE B</th>\n",
       "      <td>716</td>\n",
       "      <td>4995</td>\n",
       "    </tr>\n",
       "    <tr>\n",
       "      <th>SUR</th>\n",
       "      <td>239</td>\n",
       "      <td>5872</td>\n",
       "    </tr>\n",
       "    <tr>\n",
       "      <th>SUR CENTRO</th>\n",
       "      <td>1904</td>\n",
       "      <td>14885</td>\n",
       "    </tr>\n",
       "  </tbody>\n",
       "</table>\n",
       "</div>"
      ],
      "text/plain": [
       "            DETE_CANTIDAD  Llamadas\n",
       "ZONA                               \n",
       "CENTRO                837     16493\n",
       "NORTE                1504      8490\n",
       "OESTE A               642      6139\n",
       "OESTE B               716      4995\n",
       "SUR                   239      5872\n",
       "SUR CENTRO           1904     14885"
      ]
     },
     "execution_count": 23,
     "metadata": {},
     "output_type": "execute_result"
    }
   ],
   "source": [
    "data.pivot_table(index=\"ZONA\", values=['DETE_CANTIDAD',\"Llamadas\"], aggfunc=np.sum)"
   ]
  },
  {
   "cell_type": "code",
   "execution_count": 24,
   "id": "7f02e94b",
   "metadata": {},
   "outputs": [
    {
     "data": {
      "text/html": [
       "<div>\n",
       "<style scoped>\n",
       "    .dataframe tbody tr th:only-of-type {\n",
       "        vertical-align: middle;\n",
       "    }\n",
       "\n",
       "    .dataframe tbody tr th {\n",
       "        vertical-align: top;\n",
       "    }\n",
       "\n",
       "    .dataframe thead th {\n",
       "        text-align: right;\n",
       "    }\n",
       "</style>\n",
       "<table border=\"1\" class=\"dataframe\">\n",
       "  <thead>\n",
       "    <tr style=\"text-align: right;\">\n",
       "      <th></th>\n",
       "      <th>DETE_CANTIDAD</th>\n",
       "    </tr>\n",
       "    <tr>\n",
       "      <th>ZONA</th>\n",
       "      <th></th>\n",
       "    </tr>\n",
       "  </thead>\n",
       "  <tbody>\n",
       "    <tr>\n",
       "      <th>CENTRO</th>\n",
       "      <td>837</td>\n",
       "    </tr>\n",
       "    <tr>\n",
       "      <th>NORTE</th>\n",
       "      <td>1504</td>\n",
       "    </tr>\n",
       "    <tr>\n",
       "      <th>OESTE A</th>\n",
       "      <td>642</td>\n",
       "    </tr>\n",
       "    <tr>\n",
       "      <th>OESTE B</th>\n",
       "      <td>716</td>\n",
       "    </tr>\n",
       "    <tr>\n",
       "      <th>SUR</th>\n",
       "      <td>239</td>\n",
       "    </tr>\n",
       "    <tr>\n",
       "      <th>SUR CENTRO</th>\n",
       "      <td>1904</td>\n",
       "    </tr>\n",
       "  </tbody>\n",
       "</table>\n",
       "</div>"
      ],
      "text/plain": [
       "            DETE_CANTIDAD\n",
       "ZONA                     \n",
       "CENTRO                837\n",
       "NORTE                1504\n",
       "OESTE A               642\n",
       "OESTE B               716\n",
       "SUR                   239\n",
       "SUR CENTRO           1904"
      ]
     },
     "execution_count": 24,
     "metadata": {},
     "output_type": "execute_result"
    }
   ],
   "source": [
    "data.pivot_table(index=\"ZONA\", values=['DETE_CANTIDAD',\"UNIDAD\"], aggfunc=np.sum)"
   ]
  },
  {
   "cell_type": "code",
   "execution_count": 117,
   "id": "e9ae2c87",
   "metadata": {},
   "outputs": [],
   "source": [
    "Detenidos_llamdas=pd.DataFrame(data.pivot_table(index=\"ZONA\", values=['DETE_CANTIDAD',\"Llamadas\"], aggfunc=np.sum))"
   ]
  },
  {
   "cell_type": "code",
   "execution_count": 118,
   "id": "9cf32f8e",
   "metadata": {},
   "outputs": [
    {
     "data": {
      "text/html": [
       "<div>\n",
       "<style scoped>\n",
       "    .dataframe tbody tr th:only-of-type {\n",
       "        vertical-align: middle;\n",
       "    }\n",
       "\n",
       "    .dataframe tbody tr th {\n",
       "        vertical-align: top;\n",
       "    }\n",
       "\n",
       "    .dataframe thead th {\n",
       "        text-align: right;\n",
       "    }\n",
       "</style>\n",
       "<table border=\"1\" class=\"dataframe\">\n",
       "  <thead>\n",
       "    <tr style=\"text-align: right;\">\n",
       "      <th></th>\n",
       "      <th>ZONA</th>\n",
       "      <th>DETE_CANTIDAD</th>\n",
       "      <th>Llamadas</th>\n",
       "    </tr>\n",
       "  </thead>\n",
       "  <tbody>\n",
       "    <tr>\n",
       "      <th>0</th>\n",
       "      <td>CENTRO</td>\n",
       "      <td>837</td>\n",
       "      <td>16493</td>\n",
       "    </tr>\n",
       "    <tr>\n",
       "      <th>1</th>\n",
       "      <td>NORTE</td>\n",
       "      <td>1504</td>\n",
       "      <td>8490</td>\n",
       "    </tr>\n",
       "    <tr>\n",
       "      <th>2</th>\n",
       "      <td>OESTE A</td>\n",
       "      <td>642</td>\n",
       "      <td>6139</td>\n",
       "    </tr>\n",
       "    <tr>\n",
       "      <th>3</th>\n",
       "      <td>OESTE B</td>\n",
       "      <td>716</td>\n",
       "      <td>4995</td>\n",
       "    </tr>\n",
       "    <tr>\n",
       "      <th>4</th>\n",
       "      <td>SUR</td>\n",
       "      <td>239</td>\n",
       "      <td>5872</td>\n",
       "    </tr>\n",
       "    <tr>\n",
       "      <th>5</th>\n",
       "      <td>SUR CENTRO</td>\n",
       "      <td>1904</td>\n",
       "      <td>14885</td>\n",
       "    </tr>\n",
       "  </tbody>\n",
       "</table>\n",
       "</div>"
      ],
      "text/plain": [
       "         ZONA  DETE_CANTIDAD  Llamadas\n",
       "0      CENTRO            837     16493\n",
       "1       NORTE           1504      8490\n",
       "2     OESTE A            642      6139\n",
       "3     OESTE B            716      4995\n",
       "4         SUR            239      5872\n",
       "5  SUR CENTRO           1904     14885"
      ]
     },
     "execution_count": 118,
     "metadata": {},
     "output_type": "execute_result"
    }
   ],
   "source": [
    "Detenidos_llamdas=Detenidos_llamdas.reset_index()\n",
    "\n",
    "Detenidos_llamdas"
   ]
  },
  {
   "cell_type": "code",
   "execution_count": 119,
   "id": "e6b8e6a1",
   "metadata": {},
   "outputs": [],
   "source": [
    "path2=\"C:/Users/elextor/Downloads/ubigeo2.csv\""
   ]
  },
  {
   "cell_type": "code",
   "execution_count": 120,
   "id": "1525a67a",
   "metadata": {},
   "outputs": [
    {
     "data": {
      "text/html": [
       "<div>\n",
       "<style scoped>\n",
       "    .dataframe tbody tr th:only-of-type {\n",
       "        vertical-align: middle;\n",
       "    }\n",
       "\n",
       "    .dataframe tbody tr th {\n",
       "        vertical-align: top;\n",
       "    }\n",
       "\n",
       "    .dataframe thead th {\n",
       "        text-align: right;\n",
       "    }\n",
       "</style>\n",
       "<table border=\"1\" class=\"dataframe\">\n",
       "  <thead>\n",
       "    <tr style=\"text-align: right;\">\n",
       "      <th></th>\n",
       "      <th>ZONA</th>\n",
       "      <th>Y</th>\n",
       "      <th>X</th>\n",
       "      <th>SERENAZGO</th>\n",
       "    </tr>\n",
       "  </thead>\n",
       "  <tbody>\n",
       "    <tr>\n",
       "      <th>0</th>\n",
       "      <td>OESTE A</td>\n",
       "      <td>-11.858796</td>\n",
       "      <td>-77.159335</td>\n",
       "      <td>2600</td>\n",
       "    </tr>\n",
       "    <tr>\n",
       "      <th>1</th>\n",
       "      <td>OESTE B</td>\n",
       "      <td>-11.845860</td>\n",
       "      <td>-77.141825</td>\n",
       "      <td>2570</td>\n",
       "    </tr>\n",
       "    <tr>\n",
       "      <th>2</th>\n",
       "      <td>NORTE</td>\n",
       "      <td>-11.828050</td>\n",
       "      <td>-77.168606</td>\n",
       "      <td>6045</td>\n",
       "    </tr>\n",
       "    <tr>\n",
       "      <th>3</th>\n",
       "      <td>SUR CENTRO</td>\n",
       "      <td>-11.890881</td>\n",
       "      <td>-77.145945</td>\n",
       "      <td>6060</td>\n",
       "    </tr>\n",
       "    <tr>\n",
       "      <th>4</th>\n",
       "      <td>CENTRO</td>\n",
       "      <td>-11.866355</td>\n",
       "      <td>-77.121913</td>\n",
       "      <td>5714</td>\n",
       "    </tr>\n",
       "    <tr>\n",
       "      <th>5</th>\n",
       "      <td>SUR</td>\n",
       "      <td>-11.912046</td>\n",
       "      <td>-77.120196</td>\n",
       "      <td>3782</td>\n",
       "    </tr>\n",
       "  </tbody>\n",
       "</table>\n",
       "</div>"
      ],
      "text/plain": [
       "         ZONA          Y          X  SERENAZGO\n",
       "0     OESTE A -11.858796 -77.159335       2600\n",
       "1     OESTE B -11.845860 -77.141825       2570\n",
       "2       NORTE -11.828050 -77.168606       6045\n",
       "3  SUR CENTRO -11.890881 -77.145945       6060\n",
       "4      CENTRO -11.866355 -77.121913       5714\n",
       "5         SUR -11.912046 -77.120196       3782"
      ]
     },
     "execution_count": 120,
     "metadata": {},
     "output_type": "execute_result"
    }
   ],
   "source": [
    "ubigeo = pd.read_csv(path2,sep=\";\",on_bad_lines='skip') # use sep=\",\" for coma separation. \n",
    "ubigeo"
   ]
  },
  {
   "cell_type": "code",
   "execution_count": 125,
   "id": "4f9315db",
   "metadata": {},
   "outputs": [
    {
     "data": {
      "text/html": [
       "<div>\n",
       "<style scoped>\n",
       "    .dataframe tbody tr th:only-of-type {\n",
       "        vertical-align: middle;\n",
       "    }\n",
       "\n",
       "    .dataframe tbody tr th {\n",
       "        vertical-align: top;\n",
       "    }\n",
       "\n",
       "    .dataframe thead th {\n",
       "        text-align: right;\n",
       "    }\n",
       "</style>\n",
       "<table border=\"1\" class=\"dataframe\">\n",
       "  <thead>\n",
       "    <tr style=\"text-align: right;\">\n",
       "      <th></th>\n",
       "      <th>ZONA</th>\n",
       "      <th>DETE_CANTIDAD</th>\n",
       "      <th>Llamadas</th>\n",
       "      <th>Y</th>\n",
       "      <th>X</th>\n",
       "      <th>SERENAZGO</th>\n",
       "    </tr>\n",
       "  </thead>\n",
       "  <tbody>\n",
       "    <tr>\n",
       "      <th>0</th>\n",
       "      <td>CENTRO</td>\n",
       "      <td>837</td>\n",
       "      <td>16493</td>\n",
       "      <td>-11.866355</td>\n",
       "      <td>-77.121913</td>\n",
       "      <td>5714</td>\n",
       "    </tr>\n",
       "    <tr>\n",
       "      <th>1</th>\n",
       "      <td>NORTE</td>\n",
       "      <td>1504</td>\n",
       "      <td>8490</td>\n",
       "      <td>-11.828050</td>\n",
       "      <td>-77.168606</td>\n",
       "      <td>6045</td>\n",
       "    </tr>\n",
       "    <tr>\n",
       "      <th>2</th>\n",
       "      <td>OESTE A</td>\n",
       "      <td>642</td>\n",
       "      <td>6139</td>\n",
       "      <td>-11.858796</td>\n",
       "      <td>-77.159335</td>\n",
       "      <td>2600</td>\n",
       "    </tr>\n",
       "    <tr>\n",
       "      <th>3</th>\n",
       "      <td>OESTE B</td>\n",
       "      <td>716</td>\n",
       "      <td>4995</td>\n",
       "      <td>-11.845860</td>\n",
       "      <td>-77.141825</td>\n",
       "      <td>2570</td>\n",
       "    </tr>\n",
       "    <tr>\n",
       "      <th>4</th>\n",
       "      <td>SUR</td>\n",
       "      <td>239</td>\n",
       "      <td>5872</td>\n",
       "      <td>-11.912046</td>\n",
       "      <td>-77.120196</td>\n",
       "      <td>3782</td>\n",
       "    </tr>\n",
       "    <tr>\n",
       "      <th>5</th>\n",
       "      <td>SUR CENTRO</td>\n",
       "      <td>1904</td>\n",
       "      <td>14885</td>\n",
       "      <td>-11.890881</td>\n",
       "      <td>-77.145945</td>\n",
       "      <td>6060</td>\n",
       "    </tr>\n",
       "  </tbody>\n",
       "</table>\n",
       "</div>"
      ],
      "text/plain": [
       "         ZONA  DETE_CANTIDAD  Llamadas          Y          X  SERENAZGO\n",
       "0      CENTRO            837     16493 -11.866355 -77.121913       5714\n",
       "1       NORTE           1504      8490 -11.828050 -77.168606       6045\n",
       "2     OESTE A            642      6139 -11.858796 -77.159335       2600\n",
       "3     OESTE B            716      4995 -11.845860 -77.141825       2570\n",
       "4         SUR            239      5872 -11.912046 -77.120196       3782\n",
       "5  SUR CENTRO           1904     14885 -11.890881 -77.145945       6060"
      ]
     },
     "execution_count": 125,
     "metadata": {},
     "output_type": "execute_result"
    }
   ],
   "source": [
    "df_inner = Detenidos_llamdas.merge(ubigeo, on='ZONA', how='inner')\n",
    "df_inner"
   ]
  },
  {
   "cell_type": "code",
   "execution_count": 126,
   "id": "4da74486",
   "metadata": {},
   "outputs": [],
   "source": [
    "df_inner.rename(columns={'DETE_CANTIDAD':'CANTIDAD_DETENIDOS'},inplace=True)"
   ]
  },
  {
   "cell_type": "code",
   "execution_count": 127,
   "id": "f6953180",
   "metadata": {},
   "outputs": [
    {
     "data": {
      "text/html": [
       "<div>\n",
       "<style scoped>\n",
       "    .dataframe tbody tr th:only-of-type {\n",
       "        vertical-align: middle;\n",
       "    }\n",
       "\n",
       "    .dataframe tbody tr th {\n",
       "        vertical-align: top;\n",
       "    }\n",
       "\n",
       "    .dataframe thead th {\n",
       "        text-align: right;\n",
       "    }\n",
       "</style>\n",
       "<table border=\"1\" class=\"dataframe\">\n",
       "  <thead>\n",
       "    <tr style=\"text-align: right;\">\n",
       "      <th></th>\n",
       "      <th>ZONA</th>\n",
       "      <th>CANTIDAD_DETENIDOS</th>\n",
       "      <th>Llamadas</th>\n",
       "      <th>Y</th>\n",
       "      <th>X</th>\n",
       "      <th>SERENAZGO</th>\n",
       "    </tr>\n",
       "  </thead>\n",
       "  <tbody>\n",
       "    <tr>\n",
       "      <th>0</th>\n",
       "      <td>CENTRO</td>\n",
       "      <td>837</td>\n",
       "      <td>16493</td>\n",
       "      <td>-11.866355</td>\n",
       "      <td>-77.121913</td>\n",
       "      <td>5714</td>\n",
       "    </tr>\n",
       "    <tr>\n",
       "      <th>1</th>\n",
       "      <td>NORTE</td>\n",
       "      <td>1504</td>\n",
       "      <td>8490</td>\n",
       "      <td>-11.828050</td>\n",
       "      <td>-77.168606</td>\n",
       "      <td>6045</td>\n",
       "    </tr>\n",
       "    <tr>\n",
       "      <th>2</th>\n",
       "      <td>OESTE A</td>\n",
       "      <td>642</td>\n",
       "      <td>6139</td>\n",
       "      <td>-11.858796</td>\n",
       "      <td>-77.159335</td>\n",
       "      <td>2600</td>\n",
       "    </tr>\n",
       "    <tr>\n",
       "      <th>3</th>\n",
       "      <td>OESTE B</td>\n",
       "      <td>716</td>\n",
       "      <td>4995</td>\n",
       "      <td>-11.845860</td>\n",
       "      <td>-77.141825</td>\n",
       "      <td>2570</td>\n",
       "    </tr>\n",
       "    <tr>\n",
       "      <th>4</th>\n",
       "      <td>SUR</td>\n",
       "      <td>239</td>\n",
       "      <td>5872</td>\n",
       "      <td>-11.912046</td>\n",
       "      <td>-77.120196</td>\n",
       "      <td>3782</td>\n",
       "    </tr>\n",
       "    <tr>\n",
       "      <th>5</th>\n",
       "      <td>SUR CENTRO</td>\n",
       "      <td>1904</td>\n",
       "      <td>14885</td>\n",
       "      <td>-11.890881</td>\n",
       "      <td>-77.145945</td>\n",
       "      <td>6060</td>\n",
       "    </tr>\n",
       "  </tbody>\n",
       "</table>\n",
       "</div>"
      ],
      "text/plain": [
       "         ZONA  CANTIDAD_DETENIDOS  Llamadas          Y          X  SERENAZGO\n",
       "0      CENTRO                 837     16493 -11.866355 -77.121913       5714\n",
       "1       NORTE                1504      8490 -11.828050 -77.168606       6045\n",
       "2     OESTE A                 642      6139 -11.858796 -77.159335       2600\n",
       "3     OESTE B                 716      4995 -11.845860 -77.141825       2570\n",
       "4         SUR                 239      5872 -11.912046 -77.120196       3782\n",
       "5  SUR CENTRO                1904     14885 -11.890881 -77.145945       6060"
      ]
     },
     "execution_count": 127,
     "metadata": {},
     "output_type": "execute_result"
    }
   ],
   "source": [
    "df_inner"
   ]
  },
  {
   "cell_type": "markdown",
   "id": "5af93612",
   "metadata": {},
   "source": [
    "## mapa  cantidad de detenidos por zona"
   ]
  },
  {
   "cell_type": "code",
   "execution_count": 139,
   "id": "438f189f",
   "metadata": {},
   "outputs": [
    {
     "data": {
      "application/vnd.plotly.v1+json": {
       "config": {
        "plotlyServerURL": "https://plot.ly"
       },
       "data": [
        {
         "coloraxis": "coloraxis",
         "hovertemplate": "CANTIDAD_DETENIDOS=%{z}<br>Y=%{lat}<br>X=%{lon}<extra></extra>",
         "lat": [
          -11.866355,
          -11.82805,
          -11.858796,
          -11.84586,
          -11.912046,
          -11.890881
         ],
         "lon": [
          -77.121913,
          -77.168606,
          -77.159335,
          -77.141825,
          -77.120196,
          -77.145945
         ],
         "name": "",
         "radius": 45,
         "subplot": "mapbox",
         "type": "densitymapbox",
         "z": [
          837,
          1504,
          642,
          716,
          239,
          1904
         ]
        }
       ],
       "layout": {
        "coloraxis": {
         "colorbar": {
          "title": {
           "text": "CANTIDAD_DETENIDOS"
          }
         },
         "colorscale": [
          [
           0,
           "#0d0887"
          ],
          [
           0.1111111111111111,
           "#46039f"
          ],
          [
           0.2222222222222222,
           "#7201a8"
          ],
          [
           0.3333333333333333,
           "#9c179e"
          ],
          [
           0.4444444444444444,
           "#bd3786"
          ],
          [
           0.5555555555555556,
           "#d8576b"
          ],
          [
           0.6666666666666666,
           "#ed7953"
          ],
          [
           0.7777777777777778,
           "#fb9f3a"
          ],
          [
           0.8888888888888888,
           "#fdca26"
          ],
          [
           1,
           "#f0f921"
          ]
         ]
        },
        "height": 1000,
        "legend": {
         "tracegroupgap": 0
        },
        "mapbox": {
         "accesstoken": "pk.eyJ1IjoiNDY1MzI4MTAiLCJhIjoiY2xlMjRhd2U2MHJhYTNycGE5MDczaTV5YiJ9.zyP0fKa18RnnXd_jut216A",
         "center": {
          "lat": -11.866355,
          "lon": -77.121913
         },
         "domain": {
          "x": [
           0,
           1
          ],
          "y": [
           0,
           1
          ]
         },
         "style": "open-street-map",
         "zoom": 11
        },
        "template": {
         "data": {
          "bar": [
           {
            "error_x": {
             "color": "#2a3f5f"
            },
            "error_y": {
             "color": "#2a3f5f"
            },
            "marker": {
             "line": {
              "color": "#E5ECF6",
              "width": 0.5
             },
             "pattern": {
              "fillmode": "overlay",
              "size": 10,
              "solidity": 0.2
             }
            },
            "type": "bar"
           }
          ],
          "barpolar": [
           {
            "marker": {
             "line": {
              "color": "#E5ECF6",
              "width": 0.5
             },
             "pattern": {
              "fillmode": "overlay",
              "size": 10,
              "solidity": 0.2
             }
            },
            "type": "barpolar"
           }
          ],
          "carpet": [
           {
            "aaxis": {
             "endlinecolor": "#2a3f5f",
             "gridcolor": "white",
             "linecolor": "white",
             "minorgridcolor": "white",
             "startlinecolor": "#2a3f5f"
            },
            "baxis": {
             "endlinecolor": "#2a3f5f",
             "gridcolor": "white",
             "linecolor": "white",
             "minorgridcolor": "white",
             "startlinecolor": "#2a3f5f"
            },
            "type": "carpet"
           }
          ],
          "choropleth": [
           {
            "colorbar": {
             "outlinewidth": 0,
             "ticks": ""
            },
            "type": "choropleth"
           }
          ],
          "contour": [
           {
            "colorbar": {
             "outlinewidth": 0,
             "ticks": ""
            },
            "colorscale": [
             [
              0,
              "#0d0887"
             ],
             [
              0.1111111111111111,
              "#46039f"
             ],
             [
              0.2222222222222222,
              "#7201a8"
             ],
             [
              0.3333333333333333,
              "#9c179e"
             ],
             [
              0.4444444444444444,
              "#bd3786"
             ],
             [
              0.5555555555555556,
              "#d8576b"
             ],
             [
              0.6666666666666666,
              "#ed7953"
             ],
             [
              0.7777777777777778,
              "#fb9f3a"
             ],
             [
              0.8888888888888888,
              "#fdca26"
             ],
             [
              1,
              "#f0f921"
             ]
            ],
            "type": "contour"
           }
          ],
          "contourcarpet": [
           {
            "colorbar": {
             "outlinewidth": 0,
             "ticks": ""
            },
            "type": "contourcarpet"
           }
          ],
          "heatmap": [
           {
            "colorbar": {
             "outlinewidth": 0,
             "ticks": ""
            },
            "colorscale": [
             [
              0,
              "#0d0887"
             ],
             [
              0.1111111111111111,
              "#46039f"
             ],
             [
              0.2222222222222222,
              "#7201a8"
             ],
             [
              0.3333333333333333,
              "#9c179e"
             ],
             [
              0.4444444444444444,
              "#bd3786"
             ],
             [
              0.5555555555555556,
              "#d8576b"
             ],
             [
              0.6666666666666666,
              "#ed7953"
             ],
             [
              0.7777777777777778,
              "#fb9f3a"
             ],
             [
              0.8888888888888888,
              "#fdca26"
             ],
             [
              1,
              "#f0f921"
             ]
            ],
            "type": "heatmap"
           }
          ],
          "heatmapgl": [
           {
            "colorbar": {
             "outlinewidth": 0,
             "ticks": ""
            },
            "colorscale": [
             [
              0,
              "#0d0887"
             ],
             [
              0.1111111111111111,
              "#46039f"
             ],
             [
              0.2222222222222222,
              "#7201a8"
             ],
             [
              0.3333333333333333,
              "#9c179e"
             ],
             [
              0.4444444444444444,
              "#bd3786"
             ],
             [
              0.5555555555555556,
              "#d8576b"
             ],
             [
              0.6666666666666666,
              "#ed7953"
             ],
             [
              0.7777777777777778,
              "#fb9f3a"
             ],
             [
              0.8888888888888888,
              "#fdca26"
             ],
             [
              1,
              "#f0f921"
             ]
            ],
            "type": "heatmapgl"
           }
          ],
          "histogram": [
           {
            "marker": {
             "pattern": {
              "fillmode": "overlay",
              "size": 10,
              "solidity": 0.2
             }
            },
            "type": "histogram"
           }
          ],
          "histogram2d": [
           {
            "colorbar": {
             "outlinewidth": 0,
             "ticks": ""
            },
            "colorscale": [
             [
              0,
              "#0d0887"
             ],
             [
              0.1111111111111111,
              "#46039f"
             ],
             [
              0.2222222222222222,
              "#7201a8"
             ],
             [
              0.3333333333333333,
              "#9c179e"
             ],
             [
              0.4444444444444444,
              "#bd3786"
             ],
             [
              0.5555555555555556,
              "#d8576b"
             ],
             [
              0.6666666666666666,
              "#ed7953"
             ],
             [
              0.7777777777777778,
              "#fb9f3a"
             ],
             [
              0.8888888888888888,
              "#fdca26"
             ],
             [
              1,
              "#f0f921"
             ]
            ],
            "type": "histogram2d"
           }
          ],
          "histogram2dcontour": [
           {
            "colorbar": {
             "outlinewidth": 0,
             "ticks": ""
            },
            "colorscale": [
             [
              0,
              "#0d0887"
             ],
             [
              0.1111111111111111,
              "#46039f"
             ],
             [
              0.2222222222222222,
              "#7201a8"
             ],
             [
              0.3333333333333333,
              "#9c179e"
             ],
             [
              0.4444444444444444,
              "#bd3786"
             ],
             [
              0.5555555555555556,
              "#d8576b"
             ],
             [
              0.6666666666666666,
              "#ed7953"
             ],
             [
              0.7777777777777778,
              "#fb9f3a"
             ],
             [
              0.8888888888888888,
              "#fdca26"
             ],
             [
              1,
              "#f0f921"
             ]
            ],
            "type": "histogram2dcontour"
           }
          ],
          "mesh3d": [
           {
            "colorbar": {
             "outlinewidth": 0,
             "ticks": ""
            },
            "type": "mesh3d"
           }
          ],
          "parcoords": [
           {
            "line": {
             "colorbar": {
              "outlinewidth": 0,
              "ticks": ""
             }
            },
            "type": "parcoords"
           }
          ],
          "pie": [
           {
            "automargin": true,
            "type": "pie"
           }
          ],
          "scatter": [
           {
            "fillpattern": {
             "fillmode": "overlay",
             "size": 10,
             "solidity": 0.2
            },
            "type": "scatter"
           }
          ],
          "scatter3d": [
           {
            "line": {
             "colorbar": {
              "outlinewidth": 0,
              "ticks": ""
             }
            },
            "marker": {
             "colorbar": {
              "outlinewidth": 0,
              "ticks": ""
             }
            },
            "type": "scatter3d"
           }
          ],
          "scattercarpet": [
           {
            "marker": {
             "colorbar": {
              "outlinewidth": 0,
              "ticks": ""
             }
            },
            "type": "scattercarpet"
           }
          ],
          "scattergeo": [
           {
            "marker": {
             "colorbar": {
              "outlinewidth": 0,
              "ticks": ""
             }
            },
            "type": "scattergeo"
           }
          ],
          "scattergl": [
           {
            "marker": {
             "colorbar": {
              "outlinewidth": 0,
              "ticks": ""
             }
            },
            "type": "scattergl"
           }
          ],
          "scattermapbox": [
           {
            "marker": {
             "colorbar": {
              "outlinewidth": 0,
              "ticks": ""
             }
            },
            "type": "scattermapbox"
           }
          ],
          "scatterpolar": [
           {
            "marker": {
             "colorbar": {
              "outlinewidth": 0,
              "ticks": ""
             }
            },
            "type": "scatterpolar"
           }
          ],
          "scatterpolargl": [
           {
            "marker": {
             "colorbar": {
              "outlinewidth": 0,
              "ticks": ""
             }
            },
            "type": "scatterpolargl"
           }
          ],
          "scatterternary": [
           {
            "marker": {
             "colorbar": {
              "outlinewidth": 0,
              "ticks": ""
             }
            },
            "type": "scatterternary"
           }
          ],
          "surface": [
           {
            "colorbar": {
             "outlinewidth": 0,
             "ticks": ""
            },
            "colorscale": [
             [
              0,
              "#0d0887"
             ],
             [
              0.1111111111111111,
              "#46039f"
             ],
             [
              0.2222222222222222,
              "#7201a8"
             ],
             [
              0.3333333333333333,
              "#9c179e"
             ],
             [
              0.4444444444444444,
              "#bd3786"
             ],
             [
              0.5555555555555556,
              "#d8576b"
             ],
             [
              0.6666666666666666,
              "#ed7953"
             ],
             [
              0.7777777777777778,
              "#fb9f3a"
             ],
             [
              0.8888888888888888,
              "#fdca26"
             ],
             [
              1,
              "#f0f921"
             ]
            ],
            "type": "surface"
           }
          ],
          "table": [
           {
            "cells": {
             "fill": {
              "color": "#EBF0F8"
             },
             "line": {
              "color": "white"
             }
            },
            "header": {
             "fill": {
              "color": "#C8D4E3"
             },
             "line": {
              "color": "white"
             }
            },
            "type": "table"
           }
          ]
         },
         "layout": {
          "annotationdefaults": {
           "arrowcolor": "#2a3f5f",
           "arrowhead": 0,
           "arrowwidth": 1
          },
          "autotypenumbers": "strict",
          "coloraxis": {
           "colorbar": {
            "outlinewidth": 0,
            "ticks": ""
           }
          },
          "colorscale": {
           "diverging": [
            [
             0,
             "#8e0152"
            ],
            [
             0.1,
             "#c51b7d"
            ],
            [
             0.2,
             "#de77ae"
            ],
            [
             0.3,
             "#f1b6da"
            ],
            [
             0.4,
             "#fde0ef"
            ],
            [
             0.5,
             "#f7f7f7"
            ],
            [
             0.6,
             "#e6f5d0"
            ],
            [
             0.7,
             "#b8e186"
            ],
            [
             0.8,
             "#7fbc41"
            ],
            [
             0.9,
             "#4d9221"
            ],
            [
             1,
             "#276419"
            ]
           ],
           "sequential": [
            [
             0,
             "#0d0887"
            ],
            [
             0.1111111111111111,
             "#46039f"
            ],
            [
             0.2222222222222222,
             "#7201a8"
            ],
            [
             0.3333333333333333,
             "#9c179e"
            ],
            [
             0.4444444444444444,
             "#bd3786"
            ],
            [
             0.5555555555555556,
             "#d8576b"
            ],
            [
             0.6666666666666666,
             "#ed7953"
            ],
            [
             0.7777777777777778,
             "#fb9f3a"
            ],
            [
             0.8888888888888888,
             "#fdca26"
            ],
            [
             1,
             "#f0f921"
            ]
           ],
           "sequentialminus": [
            [
             0,
             "#0d0887"
            ],
            [
             0.1111111111111111,
             "#46039f"
            ],
            [
             0.2222222222222222,
             "#7201a8"
            ],
            [
             0.3333333333333333,
             "#9c179e"
            ],
            [
             0.4444444444444444,
             "#bd3786"
            ],
            [
             0.5555555555555556,
             "#d8576b"
            ],
            [
             0.6666666666666666,
             "#ed7953"
            ],
            [
             0.7777777777777778,
             "#fb9f3a"
            ],
            [
             0.8888888888888888,
             "#fdca26"
            ],
            [
             1,
             "#f0f921"
            ]
           ]
          },
          "colorway": [
           "#636efa",
           "#EF553B",
           "#00cc96",
           "#ab63fa",
           "#FFA15A",
           "#19d3f3",
           "#FF6692",
           "#B6E880",
           "#FF97FF",
           "#FECB52"
          ],
          "font": {
           "color": "#2a3f5f"
          },
          "geo": {
           "bgcolor": "white",
           "lakecolor": "white",
           "landcolor": "#E5ECF6",
           "showlakes": true,
           "showland": true,
           "subunitcolor": "white"
          },
          "hoverlabel": {
           "align": "left"
          },
          "hovermode": "closest",
          "mapbox": {
           "style": "light"
          },
          "paper_bgcolor": "white",
          "plot_bgcolor": "#E5ECF6",
          "polar": {
           "angularaxis": {
            "gridcolor": "white",
            "linecolor": "white",
            "ticks": ""
           },
           "bgcolor": "#E5ECF6",
           "radialaxis": {
            "gridcolor": "white",
            "linecolor": "white",
            "ticks": ""
           }
          },
          "scene": {
           "xaxis": {
            "backgroundcolor": "#E5ECF6",
            "gridcolor": "white",
            "gridwidth": 2,
            "linecolor": "white",
            "showbackground": true,
            "ticks": "",
            "zerolinecolor": "white"
           },
           "yaxis": {
            "backgroundcolor": "#E5ECF6",
            "gridcolor": "white",
            "gridwidth": 2,
            "linecolor": "white",
            "showbackground": true,
            "ticks": "",
            "zerolinecolor": "white"
           },
           "zaxis": {
            "backgroundcolor": "#E5ECF6",
            "gridcolor": "white",
            "gridwidth": 2,
            "linecolor": "white",
            "showbackground": true,
            "ticks": "",
            "zerolinecolor": "white"
           }
          },
          "shapedefaults": {
           "line": {
            "color": "#2a3f5f"
           }
          },
          "ternary": {
           "aaxis": {
            "gridcolor": "white",
            "linecolor": "white",
            "ticks": ""
           },
           "baxis": {
            "gridcolor": "white",
            "linecolor": "white",
            "ticks": ""
           },
           "bgcolor": "#E5ECF6",
           "caxis": {
            "gridcolor": "white",
            "linecolor": "white",
            "ticks": ""
           }
          },
          "title": {
           "x": 0.05
          },
          "xaxis": {
           "automargin": true,
           "gridcolor": "white",
           "linecolor": "white",
           "ticks": "",
           "title": {
            "standoff": 15
           },
           "zerolinecolor": "white",
           "zerolinewidth": 2
          },
          "yaxis": {
           "automargin": true,
           "gridcolor": "white",
           "linecolor": "white",
           "ticks": "",
           "title": {
            "standoff": 15
           },
           "zerolinecolor": "white",
           "zerolinewidth": 2
          }
         }
        },
        "title": {
         "text": " Detenidos por zona"
        },
        "width": 800
       }
      },
      "text/html": [
       "<div>                            <div id=\"1be836ed-1a4a-4745-b833-05b00d7c5822\" class=\"plotly-graph-div\" style=\"height:1000px; width:800px;\"></div>            <script type=\"text/javascript\">                require([\"plotly\"], function(Plotly) {                    window.PLOTLYENV=window.PLOTLYENV || {};                                    if (document.getElementById(\"1be836ed-1a4a-4745-b833-05b00d7c5822\")) {                    Plotly.newPlot(                        \"1be836ed-1a4a-4745-b833-05b00d7c5822\",                        [{\"coloraxis\":\"coloraxis\",\"hovertemplate\":\"CANTIDAD_DETENIDOS=%{z}<br>Y=%{lat}<br>X=%{lon}<extra></extra>\",\"lat\":[-11.866355,-11.82805,-11.858796,-11.84586,-11.912046,-11.890881],\"lon\":[-77.121913,-77.168606,-77.159335,-77.141825,-77.120196,-77.145945],\"name\":\"\",\"radius\":45,\"subplot\":\"mapbox\",\"z\":[837,1504,642,716,239,1904],\"type\":\"densitymapbox\"}],                        {\"template\":{\"data\":{\"histogram2dcontour\":[{\"type\":\"histogram2dcontour\",\"colorbar\":{\"outlinewidth\":0,\"ticks\":\"\"},\"colorscale\":[[0.0,\"#0d0887\"],[0.1111111111111111,\"#46039f\"],[0.2222222222222222,\"#7201a8\"],[0.3333333333333333,\"#9c179e\"],[0.4444444444444444,\"#bd3786\"],[0.5555555555555556,\"#d8576b\"],[0.6666666666666666,\"#ed7953\"],[0.7777777777777778,\"#fb9f3a\"],[0.8888888888888888,\"#fdca26\"],[1.0,\"#f0f921\"]]}],\"choropleth\":[{\"type\":\"choropleth\",\"colorbar\":{\"outlinewidth\":0,\"ticks\":\"\"}}],\"histogram2d\":[{\"type\":\"histogram2d\",\"colorbar\":{\"outlinewidth\":0,\"ticks\":\"\"},\"colorscale\":[[0.0,\"#0d0887\"],[0.1111111111111111,\"#46039f\"],[0.2222222222222222,\"#7201a8\"],[0.3333333333333333,\"#9c179e\"],[0.4444444444444444,\"#bd3786\"],[0.5555555555555556,\"#d8576b\"],[0.6666666666666666,\"#ed7953\"],[0.7777777777777778,\"#fb9f3a\"],[0.8888888888888888,\"#fdca26\"],[1.0,\"#f0f921\"]]}],\"heatmap\":[{\"type\":\"heatmap\",\"colorbar\":{\"outlinewidth\":0,\"ticks\":\"\"},\"colorscale\":[[0.0,\"#0d0887\"],[0.1111111111111111,\"#46039f\"],[0.2222222222222222,\"#7201a8\"],[0.3333333333333333,\"#9c179e\"],[0.4444444444444444,\"#bd3786\"],[0.5555555555555556,\"#d8576b\"],[0.6666666666666666,\"#ed7953\"],[0.7777777777777778,\"#fb9f3a\"],[0.8888888888888888,\"#fdca26\"],[1.0,\"#f0f921\"]]}],\"heatmapgl\":[{\"type\":\"heatmapgl\",\"colorbar\":{\"outlinewidth\":0,\"ticks\":\"\"},\"colorscale\":[[0.0,\"#0d0887\"],[0.1111111111111111,\"#46039f\"],[0.2222222222222222,\"#7201a8\"],[0.3333333333333333,\"#9c179e\"],[0.4444444444444444,\"#bd3786\"],[0.5555555555555556,\"#d8576b\"],[0.6666666666666666,\"#ed7953\"],[0.7777777777777778,\"#fb9f3a\"],[0.8888888888888888,\"#fdca26\"],[1.0,\"#f0f921\"]]}],\"contourcarpet\":[{\"type\":\"contourcarpet\",\"colorbar\":{\"outlinewidth\":0,\"ticks\":\"\"}}],\"contour\":[{\"type\":\"contour\",\"colorbar\":{\"outlinewidth\":0,\"ticks\":\"\"},\"colorscale\":[[0.0,\"#0d0887\"],[0.1111111111111111,\"#46039f\"],[0.2222222222222222,\"#7201a8\"],[0.3333333333333333,\"#9c179e\"],[0.4444444444444444,\"#bd3786\"],[0.5555555555555556,\"#d8576b\"],[0.6666666666666666,\"#ed7953\"],[0.7777777777777778,\"#fb9f3a\"],[0.8888888888888888,\"#fdca26\"],[1.0,\"#f0f921\"]]}],\"surface\":[{\"type\":\"surface\",\"colorbar\":{\"outlinewidth\":0,\"ticks\":\"\"},\"colorscale\":[[0.0,\"#0d0887\"],[0.1111111111111111,\"#46039f\"],[0.2222222222222222,\"#7201a8\"],[0.3333333333333333,\"#9c179e\"],[0.4444444444444444,\"#bd3786\"],[0.5555555555555556,\"#d8576b\"],[0.6666666666666666,\"#ed7953\"],[0.7777777777777778,\"#fb9f3a\"],[0.8888888888888888,\"#fdca26\"],[1.0,\"#f0f921\"]]}],\"mesh3d\":[{\"type\":\"mesh3d\",\"colorbar\":{\"outlinewidth\":0,\"ticks\":\"\"}}],\"scatter\":[{\"fillpattern\":{\"fillmode\":\"overlay\",\"size\":10,\"solidity\":0.2},\"type\":\"scatter\"}],\"parcoords\":[{\"type\":\"parcoords\",\"line\":{\"colorbar\":{\"outlinewidth\":0,\"ticks\":\"\"}}}],\"scatterpolargl\":[{\"type\":\"scatterpolargl\",\"marker\":{\"colorbar\":{\"outlinewidth\":0,\"ticks\":\"\"}}}],\"bar\":[{\"error_x\":{\"color\":\"#2a3f5f\"},\"error_y\":{\"color\":\"#2a3f5f\"},\"marker\":{\"line\":{\"color\":\"#E5ECF6\",\"width\":0.5},\"pattern\":{\"fillmode\":\"overlay\",\"size\":10,\"solidity\":0.2}},\"type\":\"bar\"}],\"scattergeo\":[{\"type\":\"scattergeo\",\"marker\":{\"colorbar\":{\"outlinewidth\":0,\"ticks\":\"\"}}}],\"scatterpolar\":[{\"type\":\"scatterpolar\",\"marker\":{\"colorbar\":{\"outlinewidth\":0,\"ticks\":\"\"}}}],\"histogram\":[{\"marker\":{\"pattern\":{\"fillmode\":\"overlay\",\"size\":10,\"solidity\":0.2}},\"type\":\"histogram\"}],\"scattergl\":[{\"type\":\"scattergl\",\"marker\":{\"colorbar\":{\"outlinewidth\":0,\"ticks\":\"\"}}}],\"scatter3d\":[{\"type\":\"scatter3d\",\"line\":{\"colorbar\":{\"outlinewidth\":0,\"ticks\":\"\"}},\"marker\":{\"colorbar\":{\"outlinewidth\":0,\"ticks\":\"\"}}}],\"scattermapbox\":[{\"type\":\"scattermapbox\",\"marker\":{\"colorbar\":{\"outlinewidth\":0,\"ticks\":\"\"}}}],\"scatterternary\":[{\"type\":\"scatterternary\",\"marker\":{\"colorbar\":{\"outlinewidth\":0,\"ticks\":\"\"}}}],\"scattercarpet\":[{\"type\":\"scattercarpet\",\"marker\":{\"colorbar\":{\"outlinewidth\":0,\"ticks\":\"\"}}}],\"carpet\":[{\"aaxis\":{\"endlinecolor\":\"#2a3f5f\",\"gridcolor\":\"white\",\"linecolor\":\"white\",\"minorgridcolor\":\"white\",\"startlinecolor\":\"#2a3f5f\"},\"baxis\":{\"endlinecolor\":\"#2a3f5f\",\"gridcolor\":\"white\",\"linecolor\":\"white\",\"minorgridcolor\":\"white\",\"startlinecolor\":\"#2a3f5f\"},\"type\":\"carpet\"}],\"table\":[{\"cells\":{\"fill\":{\"color\":\"#EBF0F8\"},\"line\":{\"color\":\"white\"}},\"header\":{\"fill\":{\"color\":\"#C8D4E3\"},\"line\":{\"color\":\"white\"}},\"type\":\"table\"}],\"barpolar\":[{\"marker\":{\"line\":{\"color\":\"#E5ECF6\",\"width\":0.5},\"pattern\":{\"fillmode\":\"overlay\",\"size\":10,\"solidity\":0.2}},\"type\":\"barpolar\"}],\"pie\":[{\"automargin\":true,\"type\":\"pie\"}]},\"layout\":{\"autotypenumbers\":\"strict\",\"colorway\":[\"#636efa\",\"#EF553B\",\"#00cc96\",\"#ab63fa\",\"#FFA15A\",\"#19d3f3\",\"#FF6692\",\"#B6E880\",\"#FF97FF\",\"#FECB52\"],\"font\":{\"color\":\"#2a3f5f\"},\"hovermode\":\"closest\",\"hoverlabel\":{\"align\":\"left\"},\"paper_bgcolor\":\"white\",\"plot_bgcolor\":\"#E5ECF6\",\"polar\":{\"bgcolor\":\"#E5ECF6\",\"angularaxis\":{\"gridcolor\":\"white\",\"linecolor\":\"white\",\"ticks\":\"\"},\"radialaxis\":{\"gridcolor\":\"white\",\"linecolor\":\"white\",\"ticks\":\"\"}},\"ternary\":{\"bgcolor\":\"#E5ECF6\",\"aaxis\":{\"gridcolor\":\"white\",\"linecolor\":\"white\",\"ticks\":\"\"},\"baxis\":{\"gridcolor\":\"white\",\"linecolor\":\"white\",\"ticks\":\"\"},\"caxis\":{\"gridcolor\":\"white\",\"linecolor\":\"white\",\"ticks\":\"\"}},\"coloraxis\":{\"colorbar\":{\"outlinewidth\":0,\"ticks\":\"\"}},\"colorscale\":{\"sequential\":[[0.0,\"#0d0887\"],[0.1111111111111111,\"#46039f\"],[0.2222222222222222,\"#7201a8\"],[0.3333333333333333,\"#9c179e\"],[0.4444444444444444,\"#bd3786\"],[0.5555555555555556,\"#d8576b\"],[0.6666666666666666,\"#ed7953\"],[0.7777777777777778,\"#fb9f3a\"],[0.8888888888888888,\"#fdca26\"],[1.0,\"#f0f921\"]],\"sequentialminus\":[[0.0,\"#0d0887\"],[0.1111111111111111,\"#46039f\"],[0.2222222222222222,\"#7201a8\"],[0.3333333333333333,\"#9c179e\"],[0.4444444444444444,\"#bd3786\"],[0.5555555555555556,\"#d8576b\"],[0.6666666666666666,\"#ed7953\"],[0.7777777777777778,\"#fb9f3a\"],[0.8888888888888888,\"#fdca26\"],[1.0,\"#f0f921\"]],\"diverging\":[[0,\"#8e0152\"],[0.1,\"#c51b7d\"],[0.2,\"#de77ae\"],[0.3,\"#f1b6da\"],[0.4,\"#fde0ef\"],[0.5,\"#f7f7f7\"],[0.6,\"#e6f5d0\"],[0.7,\"#b8e186\"],[0.8,\"#7fbc41\"],[0.9,\"#4d9221\"],[1,\"#276419\"]]},\"xaxis\":{\"gridcolor\":\"white\",\"linecolor\":\"white\",\"ticks\":\"\",\"title\":{\"standoff\":15},\"zerolinecolor\":\"white\",\"automargin\":true,\"zerolinewidth\":2},\"yaxis\":{\"gridcolor\":\"white\",\"linecolor\":\"white\",\"ticks\":\"\",\"title\":{\"standoff\":15},\"zerolinecolor\":\"white\",\"automargin\":true,\"zerolinewidth\":2},\"scene\":{\"xaxis\":{\"backgroundcolor\":\"#E5ECF6\",\"gridcolor\":\"white\",\"linecolor\":\"white\",\"showbackground\":true,\"ticks\":\"\",\"zerolinecolor\":\"white\",\"gridwidth\":2},\"yaxis\":{\"backgroundcolor\":\"#E5ECF6\",\"gridcolor\":\"white\",\"linecolor\":\"white\",\"showbackground\":true,\"ticks\":\"\",\"zerolinecolor\":\"white\",\"gridwidth\":2},\"zaxis\":{\"backgroundcolor\":\"#E5ECF6\",\"gridcolor\":\"white\",\"linecolor\":\"white\",\"showbackground\":true,\"ticks\":\"\",\"zerolinecolor\":\"white\",\"gridwidth\":2}},\"shapedefaults\":{\"line\":{\"color\":\"#2a3f5f\"}},\"annotationdefaults\":{\"arrowcolor\":\"#2a3f5f\",\"arrowhead\":0,\"arrowwidth\":1},\"geo\":{\"bgcolor\":\"white\",\"landcolor\":\"#E5ECF6\",\"subunitcolor\":\"white\",\"showland\":true,\"showlakes\":true,\"lakecolor\":\"white\"},\"title\":{\"x\":0.05},\"mapbox\":{\"style\":\"light\"}}},\"mapbox\":{\"domain\":{\"x\":[0.0,1.0],\"y\":[0.0,1.0]},\"center\":{\"lat\":-11.866355,\"lon\":-77.121913},\"accesstoken\":\"pk.eyJ1IjoiNDY1MzI4MTAiLCJhIjoiY2xlMjRhd2U2MHJhYTNycGE5MDczaTV5YiJ9.zyP0fKa18RnnXd_jut216A\",\"zoom\":11,\"style\":\"open-street-map\"},\"coloraxis\":{\"colorbar\":{\"title\":{\"text\":\"CANTIDAD_DETENIDOS\"}},\"colorscale\":[[0.0,\"#0d0887\"],[0.1111111111111111,\"#46039f\"],[0.2222222222222222,\"#7201a8\"],[0.3333333333333333,\"#9c179e\"],[0.4444444444444444,\"#bd3786\"],[0.5555555555555556,\"#d8576b\"],[0.6666666666666666,\"#ed7953\"],[0.7777777777777778,\"#fb9f3a\"],[0.8888888888888888,\"#fdca26\"],[1.0,\"#f0f921\"]]},\"legend\":{\"tracegroupgap\":0},\"title\":{\"text\":\" Detenidos por zona\"},\"height\":1000,\"width\":800},                        {\"responsive\": true}                    ).then(function(){\n",
       "                            \n",
       "var gd = document.getElementById('1be836ed-1a4a-4745-b833-05b00d7c5822');\n",
       "var x = new MutationObserver(function (mutations, observer) {{\n",
       "        var display = window.getComputedStyle(gd).display;\n",
       "        if (!display || display === 'none') {{\n",
       "            console.log([gd, 'removed!']);\n",
       "            Plotly.purge(gd);\n",
       "            observer.disconnect();\n",
       "        }}\n",
       "}});\n",
       "\n",
       "// Listen for the removal of the full notebook cells\n",
       "var notebookContainer = gd.closest('#notebook-container');\n",
       "if (notebookContainer) {{\n",
       "    x.observe(notebookContainer, {childList: true});\n",
       "}}\n",
       "\n",
       "// Listen for the clearing of the current output cell\n",
       "var outputEl = gd.closest('.output');\n",
       "if (outputEl) {{\n",
       "    x.observe(outputEl, {childList: true});\n",
       "}}\n",
       "\n",
       "                        })                };                });            </script>        </div>"
      ]
     },
     "metadata": {},
     "output_type": "display_data"
    }
   ],
   "source": [
    "import plotly.express as px\n",
    "\n",
    "\n",
    "fig = px.density_mapbox(df_inner,\n",
    "                        title =\" Detenidos por zona\",\n",
    "                        lat=df_inner[\"Y\"], \n",
    "                        lon=df_inner[\"X\"], \n",
    "                        z=df_inner[\"CANTIDAD_DETENIDOS\"], \n",
    "                        radius=45,\n",
    "                        center=dict(lat=-11.866355, lon=-77.121913),\n",
    "                        zoom=11,\n",
    "                        mapbox_style=\"open-street-map\" , \n",
    "                        width=800, height=1000 \n",
    "                        )\n",
    "\n",
    "fig.show()"
   ]
  },
  {
   "cell_type": "markdown",
   "id": "e1d0ced3",
   "metadata": {},
   "source": [
    "## Mapa llamadas por zona"
   ]
  },
  {
   "cell_type": "code",
   "execution_count": 141,
   "id": "72a8805c",
   "metadata": {},
   "outputs": [
    {
     "data": {
      "application/vnd.plotly.v1+json": {
       "config": {
        "plotlyServerURL": "https://plot.ly"
       },
       "data": [
        {
         "hovertemplate": "CANTIDAD_DETENIDOS=%{marker.size}<br>Y=%{lat}<br>X=%{lon}<br>Llamadas=%{marker.color}<extra></extra>",
         "lat": [
          -11.866355,
          -11.82805,
          -11.858796,
          -11.84586,
          -11.912046,
          -11.890881
         ],
         "legendgroup": "",
         "lon": [
          -77.121913,
          -77.168606,
          -77.159335,
          -77.141825,
          -77.120196,
          -77.145945
         ],
         "marker": {
          "color": [
           16493,
           8490,
           6139,
           4995,
           5872,
           14885
          ],
          "coloraxis": "coloraxis",
          "size": [
           837,
           1504,
           642,
           716,
           239,
           1904
          ],
          "sizemode": "area",
          "sizeref": 2.1155555555555554
         },
         "mode": "markers",
         "name": "",
         "showlegend": false,
         "subplot": "mapbox",
         "type": "scattermapbox"
        }
       ],
       "layout": {
        "coloraxis": {
         "colorbar": {
          "title": {
           "text": "Llamadas"
          }
         },
         "colorscale": [
          [
           0,
           "#0d0887"
          ],
          [
           0.1111111111111111,
           "#46039f"
          ],
          [
           0.2222222222222222,
           "#7201a8"
          ],
          [
           0.3333333333333333,
           "#9c179e"
          ],
          [
           0.4444444444444444,
           "#bd3786"
          ],
          [
           0.5555555555555556,
           "#d8576b"
          ],
          [
           0.6666666666666666,
           "#ed7953"
          ],
          [
           0.7777777777777778,
           "#fb9f3a"
          ],
          [
           0.8888888888888888,
           "#fdca26"
          ],
          [
           1,
           "#f0f921"
          ]
         ]
        },
        "height": 1000,
        "legend": {
         "itemsizing": "constant",
         "tracegroupgap": 0
        },
        "mapbox": {
         "accesstoken": "pk.eyJ1IjoiNDY1MzI4MTAiLCJhIjoiY2xlMjRhd2U2MHJhYTNycGE5MDczaTV5YiJ9.zyP0fKa18RnnXd_jut216A",
         "center": {
          "lat": -11.866355,
          "lon": -77.121913
         },
         "domain": {
          "x": [
           0,
           1
          ],
          "y": [
           0,
           1
          ]
         },
         "zoom": 11
        },
        "template": {
         "data": {
          "bar": [
           {
            "error_x": {
             "color": "#2a3f5f"
            },
            "error_y": {
             "color": "#2a3f5f"
            },
            "marker": {
             "line": {
              "color": "#E5ECF6",
              "width": 0.5
             },
             "pattern": {
              "fillmode": "overlay",
              "size": 10,
              "solidity": 0.2
             }
            },
            "type": "bar"
           }
          ],
          "barpolar": [
           {
            "marker": {
             "line": {
              "color": "#E5ECF6",
              "width": 0.5
             },
             "pattern": {
              "fillmode": "overlay",
              "size": 10,
              "solidity": 0.2
             }
            },
            "type": "barpolar"
           }
          ],
          "carpet": [
           {
            "aaxis": {
             "endlinecolor": "#2a3f5f",
             "gridcolor": "white",
             "linecolor": "white",
             "minorgridcolor": "white",
             "startlinecolor": "#2a3f5f"
            },
            "baxis": {
             "endlinecolor": "#2a3f5f",
             "gridcolor": "white",
             "linecolor": "white",
             "minorgridcolor": "white",
             "startlinecolor": "#2a3f5f"
            },
            "type": "carpet"
           }
          ],
          "choropleth": [
           {
            "colorbar": {
             "outlinewidth": 0,
             "ticks": ""
            },
            "type": "choropleth"
           }
          ],
          "contour": [
           {
            "colorbar": {
             "outlinewidth": 0,
             "ticks": ""
            },
            "colorscale": [
             [
              0,
              "#0d0887"
             ],
             [
              0.1111111111111111,
              "#46039f"
             ],
             [
              0.2222222222222222,
              "#7201a8"
             ],
             [
              0.3333333333333333,
              "#9c179e"
             ],
             [
              0.4444444444444444,
              "#bd3786"
             ],
             [
              0.5555555555555556,
              "#d8576b"
             ],
             [
              0.6666666666666666,
              "#ed7953"
             ],
             [
              0.7777777777777778,
              "#fb9f3a"
             ],
             [
              0.8888888888888888,
              "#fdca26"
             ],
             [
              1,
              "#f0f921"
             ]
            ],
            "type": "contour"
           }
          ],
          "contourcarpet": [
           {
            "colorbar": {
             "outlinewidth": 0,
             "ticks": ""
            },
            "type": "contourcarpet"
           }
          ],
          "heatmap": [
           {
            "colorbar": {
             "outlinewidth": 0,
             "ticks": ""
            },
            "colorscale": [
             [
              0,
              "#0d0887"
             ],
             [
              0.1111111111111111,
              "#46039f"
             ],
             [
              0.2222222222222222,
              "#7201a8"
             ],
             [
              0.3333333333333333,
              "#9c179e"
             ],
             [
              0.4444444444444444,
              "#bd3786"
             ],
             [
              0.5555555555555556,
              "#d8576b"
             ],
             [
              0.6666666666666666,
              "#ed7953"
             ],
             [
              0.7777777777777778,
              "#fb9f3a"
             ],
             [
              0.8888888888888888,
              "#fdca26"
             ],
             [
              1,
              "#f0f921"
             ]
            ],
            "type": "heatmap"
           }
          ],
          "heatmapgl": [
           {
            "colorbar": {
             "outlinewidth": 0,
             "ticks": ""
            },
            "colorscale": [
             [
              0,
              "#0d0887"
             ],
             [
              0.1111111111111111,
              "#46039f"
             ],
             [
              0.2222222222222222,
              "#7201a8"
             ],
             [
              0.3333333333333333,
              "#9c179e"
             ],
             [
              0.4444444444444444,
              "#bd3786"
             ],
             [
              0.5555555555555556,
              "#d8576b"
             ],
             [
              0.6666666666666666,
              "#ed7953"
             ],
             [
              0.7777777777777778,
              "#fb9f3a"
             ],
             [
              0.8888888888888888,
              "#fdca26"
             ],
             [
              1,
              "#f0f921"
             ]
            ],
            "type": "heatmapgl"
           }
          ],
          "histogram": [
           {
            "marker": {
             "pattern": {
              "fillmode": "overlay",
              "size": 10,
              "solidity": 0.2
             }
            },
            "type": "histogram"
           }
          ],
          "histogram2d": [
           {
            "colorbar": {
             "outlinewidth": 0,
             "ticks": ""
            },
            "colorscale": [
             [
              0,
              "#0d0887"
             ],
             [
              0.1111111111111111,
              "#46039f"
             ],
             [
              0.2222222222222222,
              "#7201a8"
             ],
             [
              0.3333333333333333,
              "#9c179e"
             ],
             [
              0.4444444444444444,
              "#bd3786"
             ],
             [
              0.5555555555555556,
              "#d8576b"
             ],
             [
              0.6666666666666666,
              "#ed7953"
             ],
             [
              0.7777777777777778,
              "#fb9f3a"
             ],
             [
              0.8888888888888888,
              "#fdca26"
             ],
             [
              1,
              "#f0f921"
             ]
            ],
            "type": "histogram2d"
           }
          ],
          "histogram2dcontour": [
           {
            "colorbar": {
             "outlinewidth": 0,
             "ticks": ""
            },
            "colorscale": [
             [
              0,
              "#0d0887"
             ],
             [
              0.1111111111111111,
              "#46039f"
             ],
             [
              0.2222222222222222,
              "#7201a8"
             ],
             [
              0.3333333333333333,
              "#9c179e"
             ],
             [
              0.4444444444444444,
              "#bd3786"
             ],
             [
              0.5555555555555556,
              "#d8576b"
             ],
             [
              0.6666666666666666,
              "#ed7953"
             ],
             [
              0.7777777777777778,
              "#fb9f3a"
             ],
             [
              0.8888888888888888,
              "#fdca26"
             ],
             [
              1,
              "#f0f921"
             ]
            ],
            "type": "histogram2dcontour"
           }
          ],
          "mesh3d": [
           {
            "colorbar": {
             "outlinewidth": 0,
             "ticks": ""
            },
            "type": "mesh3d"
           }
          ],
          "parcoords": [
           {
            "line": {
             "colorbar": {
              "outlinewidth": 0,
              "ticks": ""
             }
            },
            "type": "parcoords"
           }
          ],
          "pie": [
           {
            "automargin": true,
            "type": "pie"
           }
          ],
          "scatter": [
           {
            "fillpattern": {
             "fillmode": "overlay",
             "size": 10,
             "solidity": 0.2
            },
            "type": "scatter"
           }
          ],
          "scatter3d": [
           {
            "line": {
             "colorbar": {
              "outlinewidth": 0,
              "ticks": ""
             }
            },
            "marker": {
             "colorbar": {
              "outlinewidth": 0,
              "ticks": ""
             }
            },
            "type": "scatter3d"
           }
          ],
          "scattercarpet": [
           {
            "marker": {
             "colorbar": {
              "outlinewidth": 0,
              "ticks": ""
             }
            },
            "type": "scattercarpet"
           }
          ],
          "scattergeo": [
           {
            "marker": {
             "colorbar": {
              "outlinewidth": 0,
              "ticks": ""
             }
            },
            "type": "scattergeo"
           }
          ],
          "scattergl": [
           {
            "marker": {
             "colorbar": {
              "outlinewidth": 0,
              "ticks": ""
             }
            },
            "type": "scattergl"
           }
          ],
          "scattermapbox": [
           {
            "marker": {
             "colorbar": {
              "outlinewidth": 0,
              "ticks": ""
             }
            },
            "type": "scattermapbox"
           }
          ],
          "scatterpolar": [
           {
            "marker": {
             "colorbar": {
              "outlinewidth": 0,
              "ticks": ""
             }
            },
            "type": "scatterpolar"
           }
          ],
          "scatterpolargl": [
           {
            "marker": {
             "colorbar": {
              "outlinewidth": 0,
              "ticks": ""
             }
            },
            "type": "scatterpolargl"
           }
          ],
          "scatterternary": [
           {
            "marker": {
             "colorbar": {
              "outlinewidth": 0,
              "ticks": ""
             }
            },
            "type": "scatterternary"
           }
          ],
          "surface": [
           {
            "colorbar": {
             "outlinewidth": 0,
             "ticks": ""
            },
            "colorscale": [
             [
              0,
              "#0d0887"
             ],
             [
              0.1111111111111111,
              "#46039f"
             ],
             [
              0.2222222222222222,
              "#7201a8"
             ],
             [
              0.3333333333333333,
              "#9c179e"
             ],
             [
              0.4444444444444444,
              "#bd3786"
             ],
             [
              0.5555555555555556,
              "#d8576b"
             ],
             [
              0.6666666666666666,
              "#ed7953"
             ],
             [
              0.7777777777777778,
              "#fb9f3a"
             ],
             [
              0.8888888888888888,
              "#fdca26"
             ],
             [
              1,
              "#f0f921"
             ]
            ],
            "type": "surface"
           }
          ],
          "table": [
           {
            "cells": {
             "fill": {
              "color": "#EBF0F8"
             },
             "line": {
              "color": "white"
             }
            },
            "header": {
             "fill": {
              "color": "#C8D4E3"
             },
             "line": {
              "color": "white"
             }
            },
            "type": "table"
           }
          ]
         },
         "layout": {
          "annotationdefaults": {
           "arrowcolor": "#2a3f5f",
           "arrowhead": 0,
           "arrowwidth": 1
          },
          "autotypenumbers": "strict",
          "coloraxis": {
           "colorbar": {
            "outlinewidth": 0,
            "ticks": ""
           }
          },
          "colorscale": {
           "diverging": [
            [
             0,
             "#8e0152"
            ],
            [
             0.1,
             "#c51b7d"
            ],
            [
             0.2,
             "#de77ae"
            ],
            [
             0.3,
             "#f1b6da"
            ],
            [
             0.4,
             "#fde0ef"
            ],
            [
             0.5,
             "#f7f7f7"
            ],
            [
             0.6,
             "#e6f5d0"
            ],
            [
             0.7,
             "#b8e186"
            ],
            [
             0.8,
             "#7fbc41"
            ],
            [
             0.9,
             "#4d9221"
            ],
            [
             1,
             "#276419"
            ]
           ],
           "sequential": [
            [
             0,
             "#0d0887"
            ],
            [
             0.1111111111111111,
             "#46039f"
            ],
            [
             0.2222222222222222,
             "#7201a8"
            ],
            [
             0.3333333333333333,
             "#9c179e"
            ],
            [
             0.4444444444444444,
             "#bd3786"
            ],
            [
             0.5555555555555556,
             "#d8576b"
            ],
            [
             0.6666666666666666,
             "#ed7953"
            ],
            [
             0.7777777777777778,
             "#fb9f3a"
            ],
            [
             0.8888888888888888,
             "#fdca26"
            ],
            [
             1,
             "#f0f921"
            ]
           ],
           "sequentialminus": [
            [
             0,
             "#0d0887"
            ],
            [
             0.1111111111111111,
             "#46039f"
            ],
            [
             0.2222222222222222,
             "#7201a8"
            ],
            [
             0.3333333333333333,
             "#9c179e"
            ],
            [
             0.4444444444444444,
             "#bd3786"
            ],
            [
             0.5555555555555556,
             "#d8576b"
            ],
            [
             0.6666666666666666,
             "#ed7953"
            ],
            [
             0.7777777777777778,
             "#fb9f3a"
            ],
            [
             0.8888888888888888,
             "#fdca26"
            ],
            [
             1,
             "#f0f921"
            ]
           ]
          },
          "colorway": [
           "#636efa",
           "#EF553B",
           "#00cc96",
           "#ab63fa",
           "#FFA15A",
           "#19d3f3",
           "#FF6692",
           "#B6E880",
           "#FF97FF",
           "#FECB52"
          ],
          "font": {
           "color": "#2a3f5f"
          },
          "geo": {
           "bgcolor": "white",
           "lakecolor": "white",
           "landcolor": "#E5ECF6",
           "showlakes": true,
           "showland": true,
           "subunitcolor": "white"
          },
          "hoverlabel": {
           "align": "left"
          },
          "hovermode": "closest",
          "mapbox": {
           "style": "light"
          },
          "paper_bgcolor": "white",
          "plot_bgcolor": "#E5ECF6",
          "polar": {
           "angularaxis": {
            "gridcolor": "white",
            "linecolor": "white",
            "ticks": ""
           },
           "bgcolor": "#E5ECF6",
           "radialaxis": {
            "gridcolor": "white",
            "linecolor": "white",
            "ticks": ""
           }
          },
          "scene": {
           "xaxis": {
            "backgroundcolor": "#E5ECF6",
            "gridcolor": "white",
            "gridwidth": 2,
            "linecolor": "white",
            "showbackground": true,
            "ticks": "",
            "zerolinecolor": "white"
           },
           "yaxis": {
            "backgroundcolor": "#E5ECF6",
            "gridcolor": "white",
            "gridwidth": 2,
            "linecolor": "white",
            "showbackground": true,
            "ticks": "",
            "zerolinecolor": "white"
           },
           "zaxis": {
            "backgroundcolor": "#E5ECF6",
            "gridcolor": "white",
            "gridwidth": 2,
            "linecolor": "white",
            "showbackground": true,
            "ticks": "",
            "zerolinecolor": "white"
           }
          },
          "shapedefaults": {
           "line": {
            "color": "#2a3f5f"
           }
          },
          "ternary": {
           "aaxis": {
            "gridcolor": "white",
            "linecolor": "white",
            "ticks": ""
           },
           "baxis": {
            "gridcolor": "white",
            "linecolor": "white",
            "ticks": ""
           },
           "bgcolor": "#E5ECF6",
           "caxis": {
            "gridcolor": "white",
            "linecolor": "white",
            "ticks": ""
           }
          },
          "title": {
           "x": 0.05
          },
          "xaxis": {
           "automargin": true,
           "gridcolor": "white",
           "linecolor": "white",
           "ticks": "",
           "title": {
            "standoff": 15
           },
           "zerolinecolor": "white",
           "zerolinewidth": 2
          },
          "yaxis": {
           "automargin": true,
           "gridcolor": "white",
           "linecolor": "white",
           "ticks": "",
           "title": {
            "standoff": 15
           },
           "zerolinecolor": "white",
           "zerolinewidth": 2
          }
         }
        },
        "title": {
         "text": " Llamadas por zona"
        },
        "width": 800
       }
      },
      "text/html": [
       "<div>                            <div id=\"2ed117da-65fe-4749-b2da-3ba40bfa922b\" class=\"plotly-graph-div\" style=\"height:1000px; width:800px;\"></div>            <script type=\"text/javascript\">                require([\"plotly\"], function(Plotly) {                    window.PLOTLYENV=window.PLOTLYENV || {};                                    if (document.getElementById(\"2ed117da-65fe-4749-b2da-3ba40bfa922b\")) {                    Plotly.newPlot(                        \"2ed117da-65fe-4749-b2da-3ba40bfa922b\",                        [{\"hovertemplate\":\"CANTIDAD_DETENIDOS=%{marker.size}<br>Y=%{lat}<br>X=%{lon}<br>Llamadas=%{marker.color}<extra></extra>\",\"lat\":[-11.866355,-11.82805,-11.858796,-11.84586,-11.912046,-11.890881],\"legendgroup\":\"\",\"lon\":[-77.121913,-77.168606,-77.159335,-77.141825,-77.120196,-77.145945],\"marker\":{\"color\":[16493,8490,6139,4995,5872,14885],\"coloraxis\":\"coloraxis\",\"size\":[837,1504,642,716,239,1904],\"sizemode\":\"area\",\"sizeref\":2.1155555555555554},\"mode\":\"markers\",\"name\":\"\",\"showlegend\":false,\"subplot\":\"mapbox\",\"type\":\"scattermapbox\"}],                        {\"template\":{\"data\":{\"histogram2dcontour\":[{\"type\":\"histogram2dcontour\",\"colorbar\":{\"outlinewidth\":0,\"ticks\":\"\"},\"colorscale\":[[0.0,\"#0d0887\"],[0.1111111111111111,\"#46039f\"],[0.2222222222222222,\"#7201a8\"],[0.3333333333333333,\"#9c179e\"],[0.4444444444444444,\"#bd3786\"],[0.5555555555555556,\"#d8576b\"],[0.6666666666666666,\"#ed7953\"],[0.7777777777777778,\"#fb9f3a\"],[0.8888888888888888,\"#fdca26\"],[1.0,\"#f0f921\"]]}],\"choropleth\":[{\"type\":\"choropleth\",\"colorbar\":{\"outlinewidth\":0,\"ticks\":\"\"}}],\"histogram2d\":[{\"type\":\"histogram2d\",\"colorbar\":{\"outlinewidth\":0,\"ticks\":\"\"},\"colorscale\":[[0.0,\"#0d0887\"],[0.1111111111111111,\"#46039f\"],[0.2222222222222222,\"#7201a8\"],[0.3333333333333333,\"#9c179e\"],[0.4444444444444444,\"#bd3786\"],[0.5555555555555556,\"#d8576b\"],[0.6666666666666666,\"#ed7953\"],[0.7777777777777778,\"#fb9f3a\"],[0.8888888888888888,\"#fdca26\"],[1.0,\"#f0f921\"]]}],\"heatmap\":[{\"type\":\"heatmap\",\"colorbar\":{\"outlinewidth\":0,\"ticks\":\"\"},\"colorscale\":[[0.0,\"#0d0887\"],[0.1111111111111111,\"#46039f\"],[0.2222222222222222,\"#7201a8\"],[0.3333333333333333,\"#9c179e\"],[0.4444444444444444,\"#bd3786\"],[0.5555555555555556,\"#d8576b\"],[0.6666666666666666,\"#ed7953\"],[0.7777777777777778,\"#fb9f3a\"],[0.8888888888888888,\"#fdca26\"],[1.0,\"#f0f921\"]]}],\"heatmapgl\":[{\"type\":\"heatmapgl\",\"colorbar\":{\"outlinewidth\":0,\"ticks\":\"\"},\"colorscale\":[[0.0,\"#0d0887\"],[0.1111111111111111,\"#46039f\"],[0.2222222222222222,\"#7201a8\"],[0.3333333333333333,\"#9c179e\"],[0.4444444444444444,\"#bd3786\"],[0.5555555555555556,\"#d8576b\"],[0.6666666666666666,\"#ed7953\"],[0.7777777777777778,\"#fb9f3a\"],[0.8888888888888888,\"#fdca26\"],[1.0,\"#f0f921\"]]}],\"contourcarpet\":[{\"type\":\"contourcarpet\",\"colorbar\":{\"outlinewidth\":0,\"ticks\":\"\"}}],\"contour\":[{\"type\":\"contour\",\"colorbar\":{\"outlinewidth\":0,\"ticks\":\"\"},\"colorscale\":[[0.0,\"#0d0887\"],[0.1111111111111111,\"#46039f\"],[0.2222222222222222,\"#7201a8\"],[0.3333333333333333,\"#9c179e\"],[0.4444444444444444,\"#bd3786\"],[0.5555555555555556,\"#d8576b\"],[0.6666666666666666,\"#ed7953\"],[0.7777777777777778,\"#fb9f3a\"],[0.8888888888888888,\"#fdca26\"],[1.0,\"#f0f921\"]]}],\"surface\":[{\"type\":\"surface\",\"colorbar\":{\"outlinewidth\":0,\"ticks\":\"\"},\"colorscale\":[[0.0,\"#0d0887\"],[0.1111111111111111,\"#46039f\"],[0.2222222222222222,\"#7201a8\"],[0.3333333333333333,\"#9c179e\"],[0.4444444444444444,\"#bd3786\"],[0.5555555555555556,\"#d8576b\"],[0.6666666666666666,\"#ed7953\"],[0.7777777777777778,\"#fb9f3a\"],[0.8888888888888888,\"#fdca26\"],[1.0,\"#f0f921\"]]}],\"mesh3d\":[{\"type\":\"mesh3d\",\"colorbar\":{\"outlinewidth\":0,\"ticks\":\"\"}}],\"scatter\":[{\"fillpattern\":{\"fillmode\":\"overlay\",\"size\":10,\"solidity\":0.2},\"type\":\"scatter\"}],\"parcoords\":[{\"type\":\"parcoords\",\"line\":{\"colorbar\":{\"outlinewidth\":0,\"ticks\":\"\"}}}],\"scatterpolargl\":[{\"type\":\"scatterpolargl\",\"marker\":{\"colorbar\":{\"outlinewidth\":0,\"ticks\":\"\"}}}],\"bar\":[{\"error_x\":{\"color\":\"#2a3f5f\"},\"error_y\":{\"color\":\"#2a3f5f\"},\"marker\":{\"line\":{\"color\":\"#E5ECF6\",\"width\":0.5},\"pattern\":{\"fillmode\":\"overlay\",\"size\":10,\"solidity\":0.2}},\"type\":\"bar\"}],\"scattergeo\":[{\"type\":\"scattergeo\",\"marker\":{\"colorbar\":{\"outlinewidth\":0,\"ticks\":\"\"}}}],\"scatterpolar\":[{\"type\":\"scatterpolar\",\"marker\":{\"colorbar\":{\"outlinewidth\":0,\"ticks\":\"\"}}}],\"histogram\":[{\"marker\":{\"pattern\":{\"fillmode\":\"overlay\",\"size\":10,\"solidity\":0.2}},\"type\":\"histogram\"}],\"scattergl\":[{\"type\":\"scattergl\",\"marker\":{\"colorbar\":{\"outlinewidth\":0,\"ticks\":\"\"}}}],\"scatter3d\":[{\"type\":\"scatter3d\",\"line\":{\"colorbar\":{\"outlinewidth\":0,\"ticks\":\"\"}},\"marker\":{\"colorbar\":{\"outlinewidth\":0,\"ticks\":\"\"}}}],\"scattermapbox\":[{\"type\":\"scattermapbox\",\"marker\":{\"colorbar\":{\"outlinewidth\":0,\"ticks\":\"\"}}}],\"scatterternary\":[{\"type\":\"scatterternary\",\"marker\":{\"colorbar\":{\"outlinewidth\":0,\"ticks\":\"\"}}}],\"scattercarpet\":[{\"type\":\"scattercarpet\",\"marker\":{\"colorbar\":{\"outlinewidth\":0,\"ticks\":\"\"}}}],\"carpet\":[{\"aaxis\":{\"endlinecolor\":\"#2a3f5f\",\"gridcolor\":\"white\",\"linecolor\":\"white\",\"minorgridcolor\":\"white\",\"startlinecolor\":\"#2a3f5f\"},\"baxis\":{\"endlinecolor\":\"#2a3f5f\",\"gridcolor\":\"white\",\"linecolor\":\"white\",\"minorgridcolor\":\"white\",\"startlinecolor\":\"#2a3f5f\"},\"type\":\"carpet\"}],\"table\":[{\"cells\":{\"fill\":{\"color\":\"#EBF0F8\"},\"line\":{\"color\":\"white\"}},\"header\":{\"fill\":{\"color\":\"#C8D4E3\"},\"line\":{\"color\":\"white\"}},\"type\":\"table\"}],\"barpolar\":[{\"marker\":{\"line\":{\"color\":\"#E5ECF6\",\"width\":0.5},\"pattern\":{\"fillmode\":\"overlay\",\"size\":10,\"solidity\":0.2}},\"type\":\"barpolar\"}],\"pie\":[{\"automargin\":true,\"type\":\"pie\"}]},\"layout\":{\"autotypenumbers\":\"strict\",\"colorway\":[\"#636efa\",\"#EF553B\",\"#00cc96\",\"#ab63fa\",\"#FFA15A\",\"#19d3f3\",\"#FF6692\",\"#B6E880\",\"#FF97FF\",\"#FECB52\"],\"font\":{\"color\":\"#2a3f5f\"},\"hovermode\":\"closest\",\"hoverlabel\":{\"align\":\"left\"},\"paper_bgcolor\":\"white\",\"plot_bgcolor\":\"#E5ECF6\",\"polar\":{\"bgcolor\":\"#E5ECF6\",\"angularaxis\":{\"gridcolor\":\"white\",\"linecolor\":\"white\",\"ticks\":\"\"},\"radialaxis\":{\"gridcolor\":\"white\",\"linecolor\":\"white\",\"ticks\":\"\"}},\"ternary\":{\"bgcolor\":\"#E5ECF6\",\"aaxis\":{\"gridcolor\":\"white\",\"linecolor\":\"white\",\"ticks\":\"\"},\"baxis\":{\"gridcolor\":\"white\",\"linecolor\":\"white\",\"ticks\":\"\"},\"caxis\":{\"gridcolor\":\"white\",\"linecolor\":\"white\",\"ticks\":\"\"}},\"coloraxis\":{\"colorbar\":{\"outlinewidth\":0,\"ticks\":\"\"}},\"colorscale\":{\"sequential\":[[0.0,\"#0d0887\"],[0.1111111111111111,\"#46039f\"],[0.2222222222222222,\"#7201a8\"],[0.3333333333333333,\"#9c179e\"],[0.4444444444444444,\"#bd3786\"],[0.5555555555555556,\"#d8576b\"],[0.6666666666666666,\"#ed7953\"],[0.7777777777777778,\"#fb9f3a\"],[0.8888888888888888,\"#fdca26\"],[1.0,\"#f0f921\"]],\"sequentialminus\":[[0.0,\"#0d0887\"],[0.1111111111111111,\"#46039f\"],[0.2222222222222222,\"#7201a8\"],[0.3333333333333333,\"#9c179e\"],[0.4444444444444444,\"#bd3786\"],[0.5555555555555556,\"#d8576b\"],[0.6666666666666666,\"#ed7953\"],[0.7777777777777778,\"#fb9f3a\"],[0.8888888888888888,\"#fdca26\"],[1.0,\"#f0f921\"]],\"diverging\":[[0,\"#8e0152\"],[0.1,\"#c51b7d\"],[0.2,\"#de77ae\"],[0.3,\"#f1b6da\"],[0.4,\"#fde0ef\"],[0.5,\"#f7f7f7\"],[0.6,\"#e6f5d0\"],[0.7,\"#b8e186\"],[0.8,\"#7fbc41\"],[0.9,\"#4d9221\"],[1,\"#276419\"]]},\"xaxis\":{\"gridcolor\":\"white\",\"linecolor\":\"white\",\"ticks\":\"\",\"title\":{\"standoff\":15},\"zerolinecolor\":\"white\",\"automargin\":true,\"zerolinewidth\":2},\"yaxis\":{\"gridcolor\":\"white\",\"linecolor\":\"white\",\"ticks\":\"\",\"title\":{\"standoff\":15},\"zerolinecolor\":\"white\",\"automargin\":true,\"zerolinewidth\":2},\"scene\":{\"xaxis\":{\"backgroundcolor\":\"#E5ECF6\",\"gridcolor\":\"white\",\"linecolor\":\"white\",\"showbackground\":true,\"ticks\":\"\",\"zerolinecolor\":\"white\",\"gridwidth\":2},\"yaxis\":{\"backgroundcolor\":\"#E5ECF6\",\"gridcolor\":\"white\",\"linecolor\":\"white\",\"showbackground\":true,\"ticks\":\"\",\"zerolinecolor\":\"white\",\"gridwidth\":2},\"zaxis\":{\"backgroundcolor\":\"#E5ECF6\",\"gridcolor\":\"white\",\"linecolor\":\"white\",\"showbackground\":true,\"ticks\":\"\",\"zerolinecolor\":\"white\",\"gridwidth\":2}},\"shapedefaults\":{\"line\":{\"color\":\"#2a3f5f\"}},\"annotationdefaults\":{\"arrowcolor\":\"#2a3f5f\",\"arrowhead\":0,\"arrowwidth\":1},\"geo\":{\"bgcolor\":\"white\",\"landcolor\":\"#E5ECF6\",\"subunitcolor\":\"white\",\"showland\":true,\"showlakes\":true,\"lakecolor\":\"white\"},\"title\":{\"x\":0.05},\"mapbox\":{\"style\":\"light\"}}},\"mapbox\":{\"domain\":{\"x\":[0.0,1.0],\"y\":[0.0,1.0]},\"center\":{\"lat\":-11.866355,\"lon\":-77.121913},\"accesstoken\":\"pk.eyJ1IjoiNDY1MzI4MTAiLCJhIjoiY2xlMjRhd2U2MHJhYTNycGE5MDczaTV5YiJ9.zyP0fKa18RnnXd_jut216A\",\"zoom\":11},\"coloraxis\":{\"colorbar\":{\"title\":{\"text\":\"Llamadas\"}},\"colorscale\":[[0.0,\"#0d0887\"],[0.1111111111111111,\"#46039f\"],[0.2222222222222222,\"#7201a8\"],[0.3333333333333333,\"#9c179e\"],[0.4444444444444444,\"#bd3786\"],[0.5555555555555556,\"#d8576b\"],[0.6666666666666666,\"#ed7953\"],[0.7777777777777778,\"#fb9f3a\"],[0.8888888888888888,\"#fdca26\"],[1.0,\"#f0f921\"]]},\"legend\":{\"tracegroupgap\":0,\"itemsizing\":\"constant\"},\"title\":{\"text\":\" Llamadas por zona\"},\"height\":1000,\"width\":800},                        {\"responsive\": true}                    ).then(function(){\n",
       "                            \n",
       "var gd = document.getElementById('2ed117da-65fe-4749-b2da-3ba40bfa922b');\n",
       "var x = new MutationObserver(function (mutations, observer) {{\n",
       "        var display = window.getComputedStyle(gd).display;\n",
       "        if (!display || display === 'none') {{\n",
       "            console.log([gd, 'removed!']);\n",
       "            Plotly.purge(gd);\n",
       "            observer.disconnect();\n",
       "        }}\n",
       "}});\n",
       "\n",
       "// Listen for the removal of the full notebook cells\n",
       "var notebookContainer = gd.closest('#notebook-container');\n",
       "if (notebookContainer) {{\n",
       "    x.observe(notebookContainer, {childList: true});\n",
       "}}\n",
       "\n",
       "// Listen for the clearing of the current output cell\n",
       "var outputEl = gd.closest('.output');\n",
       "if (outputEl) {{\n",
       "    x.observe(outputEl, {childList: true});\n",
       "}}\n",
       "\n",
       "                        })                };                });            </script>        </div>"
      ]
     },
     "metadata": {},
     "output_type": "display_data"
    }
   ],
   "source": [
    "import plotly.express as px\n",
    "px.set_mapbox_access_token(\"pk.eyJ1IjoiNDY1MzI4MTAiLCJhIjoiY2xlMjRhd2U2MHJhYTNycGE5MDczaTV5YiJ9.zyP0fKa18RnnXd_jut216A\")\n",
    "fig = px.scatter_mapbox(df_inner,\n",
    "                        title =\" Llamadas por zona\",\n",
    "                        lat=\"Y\", lon=\"X\", \n",
    "                        color=\"Llamadas\",\n",
    "                        center=dict(lat=-11.866355, lon=-77.121913),\n",
    "                        size=\"CANTIDAD_DETENIDOS\",\n",
    "                        size_max=30,\n",
    "                        zoom=11 , \n",
    "                        width=800, \n",
    "                        height=1000, )\n",
    "fig.show()"
   ]
  }
 ],
 "metadata": {
  "kernelspec": {
   "display_name": "Python 3 (ipykernel)",
   "language": "python",
   "name": "python3"
  },
  "language_info": {
   "codemirror_mode": {
    "name": "ipython",
    "version": 3
   },
   "file_extension": ".py",
   "mimetype": "text/x-python",
   "name": "python",
   "nbconvert_exporter": "python",
   "pygments_lexer": "ipython3",
   "version": "3.7.1"
  }
 },
 "nbformat": 4,
 "nbformat_minor": 5
}
